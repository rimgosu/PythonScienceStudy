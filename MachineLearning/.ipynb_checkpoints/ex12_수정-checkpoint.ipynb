{
 "cells": [
  {
   "cell_type": "markdown",
   "id": "137bee27",
   "metadata": {},
   "source": [
    "## 버전 다운그레이드\n",
    "!pip uninstall scikit-learn <br>\n",
    "!pip install scikit-learn==1.2.2"
   ]
  },
  {
   "cell_type": "markdown",
   "id": "24a7b0f1",
   "metadata": {},
   "source": [
    "### 문제정의\n",
    "- 손글씨 숫자(0~9)를 분류하는 모델을 만들어보자\n",
    "- 이미지 데이터의 형태를 이해해보자"
   ]
  },
  {
   "cell_type": "markdown",
   "id": "80e0fb23",
   "metadata": {},
   "source": [
    "### 데이터 수집"
   ]
  },
  {
   "cell_type": "code",
   "execution_count": null,
   "id": "46f4318d",
   "metadata": {},
   "outputs": [],
   "source": [
    "import numpy as np\n",
    "import pandas as pd\n",
    "import matplotlib.pyplot as plt"
   ]
  },
  {
   "cell_type": "code",
   "execution_count": null,
   "id": "d8c4a891",
   "metadata": {},
   "outputs": [],
   "source": [
    "# 데이터 가져오기\n",
    "data = pd.read_csv('data/digit_train.csv')"
   ]
  },
  {
   "cell_type": "code",
   "execution_count": null,
   "id": "0a11ad54",
   "metadata": {},
   "outputs": [],
   "source": [
    "# 데이터 크기 확인\n",
    "data.shape"
   ]
  },
  {
   "cell_type": "code",
   "execution_count": null,
   "id": "bcdc505b",
   "metadata": {},
   "outputs": [],
   "source": [
    "data.head()\n",
    "# label : 정답\n",
    "# pixel0~ pixel783 : 문제 (28 * 28 이미지 데이터)"
   ]
  },
  {
   "cell_type": "code",
   "execution_count": null,
   "id": "763ae43c",
   "metadata": {},
   "outputs": [],
   "source": [
    "# 데이터 시각화 --> 이미지 데이터로 첫번째 행의 label을 제외한 모든 컬럼 가져오기\n",
    "img0 = data.iloc[0, 1 :]\n",
    "img0.shape"
   ]
  },
  {
   "cell_type": "code",
   "execution_count": null,
   "id": "ae21cec9",
   "metadata": {
    "scrolled": true
   },
   "outputs": [],
   "source": [
    "img0.values"
   ]
  },
  {
   "cell_type": "code",
   "execution_count": null,
   "id": "6aca87b3",
   "metadata": {},
   "outputs": [],
   "source": [
    "# 리스트 자료형을 28*28의 2차원으로 변환\n",
    "img0_reshape = img0.values.reshape(28,28)"
   ]
  },
  {
   "cell_type": "code",
   "execution_count": null,
   "id": "e7e6d0a7",
   "metadata": {},
   "outputs": [],
   "source": [
    "# img0 이미지 하나를 그려보기\n",
    "plt.imshow(img0_reshape, cmap='gray')"
   ]
  },
  {
   "cell_type": "code",
   "execution_count": null,
   "id": "494b7b11",
   "metadata": {},
   "outputs": [],
   "source": [
    "# 7777행의 데이터 꺼내와서 - 값 확인 - 2차원 변환 - 이미지 그려보기 - 어떤 숫자인지 확인"
   ]
  },
  {
   "cell_type": "code",
   "execution_count": null,
   "id": "19eab192",
   "metadata": {},
   "outputs": [],
   "source": [
    "img7777 = data.iloc[7777, 1 :]\n",
    "img7777_reshape = img7777.values.reshape(28,28)\n",
    "plt.imshow(img7777_reshape, cmap='gray')\n",
    "# plt.show() # 불필요한 text 정보를 출력하지 않는 코드"
   ]
  },
  {
   "cell_type": "markdown",
   "id": "bd321060",
   "metadata": {},
   "source": [
    "### 학습을 위한 데이터 분리\n",
    "- 학습 7 테스트 3\n",
    "- random_state : 7"
   ]
  },
  {
   "cell_type": "code",
   "execution_count": null,
   "id": "e8fd0d37",
   "metadata": {},
   "outputs": [],
   "source": [
    "X = data.iloc[:, 1 : ]   # 문제 - 2차원 데이터프레임 형태 [[ ]]\n",
    "y = data.iloc[:, 0]   # 정답 - 1차원 시리즈 형태"
   ]
  },
  {
   "cell_type": "code",
   "execution_count": null,
   "id": "08fc94bb",
   "metadata": {},
   "outputs": [],
   "source": [
    "# 크기 확인\n",
    "X.shape, y.shape"
   ]
  },
  {
   "cell_type": "code",
   "execution_count": null,
   "id": "8f0f3b18",
   "metadata": {},
   "outputs": [],
   "source": [
    "from sklearn.model_selection import train_test_split\n",
    "X_train, X_test, y_train, y_test = train_test_split(X, y, test_size=0.3, random_state=7)"
   ]
  },
  {
   "cell_type": "code",
   "execution_count": null,
   "id": "199349b8",
   "metadata": {},
   "outputs": [],
   "source": [
    "print(X_train.shape)\n",
    "print(X_test.shape)\n",
    "print(y_train.shape)\n",
    "print(y_test.shape)"
   ]
  },
  {
   "cell_type": "markdown",
   "id": "86d68731",
   "metadata": {},
   "source": [
    "### 모델 선택\n",
    "- KNN\n",
    "- Logistic Regression\n",
    "- SVM"
   ]
  },
  {
   "cell_type": "code",
   "execution_count": null,
   "id": "e745887e",
   "metadata": {},
   "outputs": [],
   "source": [
    "from sklearn.neighbors import KNeighborsClassifier\n",
    "from sklearn.linear_model import LogisticRegression\n",
    "from sklearn.svm import LinearSVC\n",
    "\n",
    "# 모델 생성\n",
    "knn_model = KNeighborsClassifier()\n",
    "logi_model = LogisticRegression()\n",
    "svm_model = LinearSVC()"
   ]
  },
  {
   "cell_type": "markdown",
   "id": "f462d90e",
   "metadata": {},
   "source": [
    "### 학습 및 평가"
   ]
  },
  {
   "cell_type": "code",
   "execution_count": null,
   "id": "668a5a3d",
   "metadata": {},
   "outputs": [],
   "source": [
    "# 학습\n",
    "knn_model.fit(X_train, y_train)\n",
    "logi_model.fit(X_train, y_train)\n",
    "svm_model.fit(X_train, y_train)\n",
    "\n",
    "# 평가\n",
    "print('KNN : ', knn_model.score(X_test, y_test))\n",
    "print('Logistic : ', logi_model.score(X_test, y_test))\n",
    "print('SVM : ', svm_model.score(X_test, y_test))"
   ]
  },
  {
   "cell_type": "markdown",
   "id": "5dab295e",
   "metadata": {},
   "source": [
    "### 데이터 스케일링 적용\n",
    "- 이미지 픽셀 정보 : 0~255로 최소/최대가 고정되어 잇는 데이터\n",
    "- MinMaxScaler를 사용하여 0~1 사이의 값으로 모든 픽셀을 조정\n",
    "- 스케일링의 효과 확인하기\n",
    "    - 학습(연산) 속도 개선\n",
    "    - 거리 기반으로 예측하는 KNN 모델 ==> 거의 변화가 없었음.\n",
    "- KNN 모델 : 모든 데이터의 대한 거리를 계산, 데이터가 많을수록 속도가 느려짐"
   ]
  },
  {
   "cell_type": "code",
   "execution_count": null,
   "id": "24a37541",
   "metadata": {},
   "outputs": [],
   "source": [
    "from sklearn."
   ]
  },
  {
   "cell_type": "code",
   "execution_count": null,
   "id": "17cae929",
   "metadata": {},
   "outputs": [],
   "source": [
    "scaler = MinMaxScaler() # 0~1 사이로 변환"
   ]
  },
  {
   "cell_type": "code",
   "execution_count": null,
   "id": "09a86d22",
   "metadata": {},
   "outputs": [],
   "source": [
    "scaler.fit(X_train)"
   ]
  },
  {
   "cell_type": "code",
   "execution_count": null,
   "id": "baf79c04",
   "metadata": {},
   "outputs": [],
   "source": [
    "X_train"
   ]
  },
  {
   "cell_type": "code",
   "execution_count": null,
   "id": "149ab9f5",
   "metadata": {},
   "outputs": [],
   "source": [
    "# 문제데이터에 스케일링 적용\n",
    "X_train_scale = scaler.transform(X_train)\n",
    "X_test_scale = scaler.transform(X_test)"
   ]
  },
  {
   "cell_type": "code",
   "execution_count": null,
   "id": "5343ac79",
   "metadata": {},
   "outputs": [],
   "source": []
  },
  {
   "cell_type": "code",
   "execution_count": null,
   "id": "664d9812",
   "metadata": {},
   "outputs": [],
   "source": []
  },
  {
   "cell_type": "code",
   "execution_count": null,
   "id": "b7c331b1",
   "metadata": {},
   "outputs": [],
   "source": []
  },
  {
   "cell_type": "code",
   "execution_count": null,
   "id": "8ae8bd32",
   "metadata": {},
   "outputs": [],
   "source": []
  },
  {
   "cell_type": "code",
   "execution_count": null,
   "id": "7db99bbb",
   "metadata": {},
   "outputs": [],
   "source": []
  },
  {
   "cell_type": "code",
   "execution_count": null,
   "id": "8393b8c8",
   "metadata": {},
   "outputs": [],
   "source": []
  }
 ],
 "metadata": {
  "kernelspec": {
   "display_name": "Python 3 (ipykernel)",
   "language": "python",
   "name": "python3"
  },
  "language_info": {
   "codemirror_mode": {
    "name": "ipython",
    "version": 3
   },
   "file_extension": ".py",
   "mimetype": "text/x-python",
   "name": "python",
   "nbconvert_exporter": "python",
   "pygments_lexer": "ipython3",
   "version": "3.11.4"
  }
 },
 "nbformat": 4,
 "nbformat_minor": 5
}
