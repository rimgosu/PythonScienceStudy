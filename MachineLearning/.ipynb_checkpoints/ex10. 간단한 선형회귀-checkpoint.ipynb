{
 "cells": [
  {
   "cell_type": "markdown",
   "id": "683268da",
   "metadata": {},
   "source": [
    "### 선형회귀 이해하기\n",
    "    - 성적 데이터를 기반으로 선형회귀를 이해해보자"
   ]
  },
  {
   "cell_type": "code",
   "execution_count": 8,
   "id": "fb8427b5",
   "metadata": {},
   "outputs": [],
   "source": [
    "# warnings 출력 X\n",
    "import warnings\n",
    "warnings.filterwarnings('ignore')"
   ]
  },
  {
   "cell_type": "code",
   "execution_count": 1,
   "id": "41809d72",
   "metadata": {},
   "outputs": [],
   "source": [
    "# 성적 데이터 생성을 위한 라이브러리 꺼내오기\n",
    "import pandas as pd\n",
    "import matplotlib.pyplot as plt"
   ]
  },
  {
   "cell_type": "code",
   "execution_count": 4,
   "id": "ce5a8cab",
   "metadata": {},
   "outputs": [
    {
     "data": {
      "text/html": [
       "<div>\n",
       "<style scoped>\n",
       "    .dataframe tbody tr th:only-of-type {\n",
       "        vertical-align: middle;\n",
       "    }\n",
       "\n",
       "    .dataframe tbody tr th {\n",
       "        vertical-align: top;\n",
       "    }\n",
       "\n",
       "    .dataframe thead th {\n",
       "        text-align: right;\n",
       "    }\n",
       "</style>\n",
       "<table border=\"1\" class=\"dataframe\">\n",
       "  <thead>\n",
       "    <tr style=\"text-align: right;\">\n",
       "      <th></th>\n",
       "      <th>시간</th>\n",
       "      <th>성적</th>\n",
       "    </tr>\n",
       "  </thead>\n",
       "  <tbody>\n",
       "    <tr>\n",
       "      <th>준영</th>\n",
       "      <td>2</td>\n",
       "      <td>20</td>\n",
       "    </tr>\n",
       "    <tr>\n",
       "      <th>종화</th>\n",
       "      <td>4</td>\n",
       "      <td>40</td>\n",
       "    </tr>\n",
       "    <tr>\n",
       "      <th>경민</th>\n",
       "      <td>8</td>\n",
       "      <td>80</td>\n",
       "    </tr>\n",
       "    <tr>\n",
       "      <th>승훈</th>\n",
       "      <td>9</td>\n",
       "      <td>90</td>\n",
       "    </tr>\n",
       "  </tbody>\n",
       "</table>\n",
       "</div>"
      ],
      "text/plain": [
       "    시간  성적\n",
       "준영   2  20\n",
       "종화   4  40\n",
       "경민   8  80\n",
       "승훈   9  90"
      ]
     },
     "execution_count": 4,
     "metadata": {},
     "output_type": "execute_result"
    }
   ],
   "source": [
    "# 성적 데이터 생성\n",
    "data = pd.DataFrame(\n",
    "    [[2,20], [4,40], [8,80], [9,90]],\n",
    "    index = ['준영', '종화', '경민', '승훈'],\n",
    "    columns = ['시간', '성적']\n",
    ")\n",
    "data"
   ]
  },
  {
   "cell_type": "markdown",
   "id": "46e107c5",
   "metadata": {},
   "source": [
    "### MSE가 최소가 되는 최적의 w,b를 찾는 방법\n",
    "- MSE : 평균제곱 오차 ==> 비용함수(cost)\n",
    "- 1. 수학 공식을 이용한 해석적 모델\n",
    "- 2. 경사하강법 (XGBoost에서 오차 계산하는 방법)"
   ]
  },
  {
   "cell_type": "markdown",
   "id": "e5f6afdb",
   "metadata": {},
   "source": [
    "### 수학 공식을 이용한 해석적 모델\n",
    "- LinearRegression"
   ]
  },
  {
   "cell_type": "code",
   "execution_count": 5,
   "id": "88350417",
   "metadata": {},
   "outputs": [
    {
     "data": {
      "text/html": [
       "<style>#sk-container-id-1 {color: black;}#sk-container-id-1 pre{padding: 0;}#sk-container-id-1 div.sk-toggleable {background-color: white;}#sk-container-id-1 label.sk-toggleable__label {cursor: pointer;display: block;width: 100%;margin-bottom: 0;padding: 0.3em;box-sizing: border-box;text-align: center;}#sk-container-id-1 label.sk-toggleable__label-arrow:before {content: \"▸\";float: left;margin-right: 0.25em;color: #696969;}#sk-container-id-1 label.sk-toggleable__label-arrow:hover:before {color: black;}#sk-container-id-1 div.sk-estimator:hover label.sk-toggleable__label-arrow:before {color: black;}#sk-container-id-1 div.sk-toggleable__content {max-height: 0;max-width: 0;overflow: hidden;text-align: left;background-color: #f0f8ff;}#sk-container-id-1 div.sk-toggleable__content pre {margin: 0.2em;color: black;border-radius: 0.25em;background-color: #f0f8ff;}#sk-container-id-1 input.sk-toggleable__control:checked~div.sk-toggleable__content {max-height: 200px;max-width: 100%;overflow: auto;}#sk-container-id-1 input.sk-toggleable__control:checked~label.sk-toggleable__label-arrow:before {content: \"▾\";}#sk-container-id-1 div.sk-estimator input.sk-toggleable__control:checked~label.sk-toggleable__label {background-color: #d4ebff;}#sk-container-id-1 div.sk-label input.sk-toggleable__control:checked~label.sk-toggleable__label {background-color: #d4ebff;}#sk-container-id-1 input.sk-hidden--visually {border: 0;clip: rect(1px 1px 1px 1px);clip: rect(1px, 1px, 1px, 1px);height: 1px;margin: -1px;overflow: hidden;padding: 0;position: absolute;width: 1px;}#sk-container-id-1 div.sk-estimator {font-family: monospace;background-color: #f0f8ff;border: 1px dotted black;border-radius: 0.25em;box-sizing: border-box;margin-bottom: 0.5em;}#sk-container-id-1 div.sk-estimator:hover {background-color: #d4ebff;}#sk-container-id-1 div.sk-parallel-item::after {content: \"\";width: 100%;border-bottom: 1px solid gray;flex-grow: 1;}#sk-container-id-1 div.sk-label:hover label.sk-toggleable__label {background-color: #d4ebff;}#sk-container-id-1 div.sk-serial::before {content: \"\";position: absolute;border-left: 1px solid gray;box-sizing: border-box;top: 0;bottom: 0;left: 50%;z-index: 0;}#sk-container-id-1 div.sk-serial {display: flex;flex-direction: column;align-items: center;background-color: white;padding-right: 0.2em;padding-left: 0.2em;position: relative;}#sk-container-id-1 div.sk-item {position: relative;z-index: 1;}#sk-container-id-1 div.sk-parallel {display: flex;align-items: stretch;justify-content: center;background-color: white;position: relative;}#sk-container-id-1 div.sk-item::before, #sk-container-id-1 div.sk-parallel-item::before {content: \"\";position: absolute;border-left: 1px solid gray;box-sizing: border-box;top: 0;bottom: 0;left: 50%;z-index: -1;}#sk-container-id-1 div.sk-parallel-item {display: flex;flex-direction: column;z-index: 1;position: relative;background-color: white;}#sk-container-id-1 div.sk-parallel-item:first-child::after {align-self: flex-end;width: 50%;}#sk-container-id-1 div.sk-parallel-item:last-child::after {align-self: flex-start;width: 50%;}#sk-container-id-1 div.sk-parallel-item:only-child::after {width: 0;}#sk-container-id-1 div.sk-dashed-wrapped {border: 1px dashed gray;margin: 0 0.4em 0.5em 0.4em;box-sizing: border-box;padding-bottom: 0.4em;background-color: white;}#sk-container-id-1 div.sk-label label {font-family: monospace;font-weight: bold;display: inline-block;line-height: 1.2em;}#sk-container-id-1 div.sk-label-container {text-align: center;}#sk-container-id-1 div.sk-container {/* jupyter's `normalize.less` sets `[hidden] { display: none; }` but bootstrap.min.css set `[hidden] { display: none !important; }` so we also need the `!important` here to be able to override the default hidden behavior on the sphinx rendered scikit-learn.org. See: https://github.com/scikit-learn/scikit-learn/issues/21755 */display: inline-block !important;position: relative;}#sk-container-id-1 div.sk-text-repr-fallback {display: none;}</style><div id=\"sk-container-id-1\" class=\"sk-top-container\"><div class=\"sk-text-repr-fallback\"><pre>LinearRegression()</pre><b>In a Jupyter environment, please rerun this cell to show the HTML representation or trust the notebook. <br />On GitHub, the HTML representation is unable to render, please try loading this page with nbviewer.org.</b></div><div class=\"sk-container\" hidden><div class=\"sk-item\"><div class=\"sk-estimator sk-toggleable\"><input class=\"sk-toggleable__control sk-hidden--visually\" id=\"sk-estimator-id-1\" type=\"checkbox\" checked><label for=\"sk-estimator-id-1\" class=\"sk-toggleable__label sk-toggleable__label-arrow\">LinearRegression</label><div class=\"sk-toggleable__content\"><pre>LinearRegression()</pre></div></div></div></div></div>"
      ],
      "text/plain": [
       "LinearRegression()"
      ]
     },
     "execution_count": 5,
     "metadata": {},
     "output_type": "execute_result"
    }
   ],
   "source": [
    "from sklearn.linear_model import LinearRegression\n",
    "\n",
    "# 모델 생성 및 하이퍼파라미터 설정\n",
    "linear_model = LinearRegression()\n",
    "\n",
    "# 학습\n",
    "linear_model.fit(data[['시간']], data['성적']) \n",
    "# 문제는 2차원, 정답은 1차원\n",
    "# => 보통 여러 컬럼을 사용해서 train하므로 어찌보면 당연."
   ]
  },
  {
   "cell_type": "markdown",
   "id": "648fd55f",
   "metadata": {},
   "source": [
    "y = wx +b (1개의 문제)"
   ]
  },
  {
   "cell_type": "code",
   "execution_count": 6,
   "id": "b4d81f80",
   "metadata": {},
   "outputs": [
    {
     "name": "stdout",
     "output_type": "stream",
     "text": [
      "기울기, 가중치 :  [10.]\n",
      "절편, 편향 :  7.105427357601002e-15\n"
     ]
    }
   ],
   "source": [
    "# 기울기, 가중치 출력\n",
    "print('기울기, 가중치 : ', linear_model.coef_)\n",
    "# 절편, 편향 출력\n",
    "print('절편, 편향 : ', linear_model.intercept_)"
   ]
  },
  {
   "cell_type": "code",
   "execution_count": 9,
   "id": "be150f02",
   "metadata": {},
   "outputs": [
    {
     "data": {
      "text/plain": [
       "array([70.])"
      ]
     },
     "execution_count": 9,
     "metadata": {},
     "output_type": "execute_result"
    }
   ],
   "source": [
    "# 영재씨가 7시간 공부했을 때 몇 점? - 예측\n",
    "linear_model.predict([[7]])"
   ]
  },
  {
   "cell_type": "markdown",
   "id": "c958b83b",
   "metadata": {},
   "source": [
    "H(x)\n",
    "- 가설함수"
   ]
  },
  {
   "cell_type": "code",
   "execution_count": 10,
   "id": "55c4425e",
   "metadata": {},
   "outputs": [],
   "source": [
    "# 함수 정의\n",
    "def h(w, x) : \n",
    "    return w * x + 0 "
   ]
  },
  {
   "cell_type": "markdown",
   "id": "3ee75648",
   "metadata": {},
   "source": [
    "### 비용함수(Cost Function)\n",
    "- 비용 = 오차"
   ]
  },
  {
   "cell_type": "code",
   "execution_count": 11,
   "id": "34d7887d",
   "metadata": {},
   "outputs": [],
   "source": [
    "# 비용함수 정의\n",
    "# data : 문제 값\n",
    "# target : 정답(실제 값)\n",
    "# weight : 가중치\n",
    "\n",
    "def cost(data, target, weight):\n",
    "    # 예측\n",
    "    y_pre = h(weight, data)\n",
    "    # 평균제곱오차 = ((예측값 - 실제값) **2).mean()\n",
    "    error = ((y_pre - target) ** 2).mean()\n",
    "    return error"
   ]
  },
  {
   "cell_type": "code",
   "execution_count": 15,
   "id": "ca752272",
   "metadata": {},
   "outputs": [
    {
     "data": {
      "text/plain": [
       "0.0"
      ]
     },
     "execution_count": 15,
     "metadata": {},
     "output_type": "execute_result"
    }
   ],
   "source": [
    "# 가중치에 따른 오차값 확인\n",
    "cost(data['시간'], data['성적'], 10)"
   ]
  },
  {
   "cell_type": "code",
   "execution_count": 19,
   "id": "23a474af",
   "metadata": {
    "collapsed": true
   },
   "outputs": [
    {
     "data": {
      "image/png": "[encoded data removed]",
      "text/plain": [
       "<Figure size 640x480 with 1 Axes>"
      ]
     },
     "metadata": {},
     "output_type": "display_data"
    }
   ],
   "source": [
    "# 가중치 변화에 따른 비용함수의 변화를 그래프로 확인\n",
    "cost_list = []\n",
    "\n",
    "for w in range(-49, 50):\n",
    "    cost_list.append(cost(data['시간'], data['성적'], w))\n",
    "    \n",
    "plt.plot(range(-49,50),cost_list)\n",
    "plt.show()"
   ]
  },
  {
   "cell_type": "code",
   "execution_count": 22,
   "id": "f8a0e847",
   "metadata": {},
   "outputs": [
    {
     "data": {
      "text/plain": [
       "1.0"
      ]
     },
     "execution_count": 22,
     "metadata": {},
     "output_type": "execute_result"
    }
   ],
   "source": [
    "linear_model.score(data[['시간']], data['성적'])\n",
    "# 분류모델 : score - 정확도\n",
    "# 회귀모덜 : score(MSE를 기반으로 한 R2score) - 유사도\n",
    "# MSE : 0~무한 => R2score : -1 ~ 1"
   ]
  },
  {
   "cell_type": "markdown",
   "id": "cf4a93f0",
   "metadata": {},
   "source": [
    "### 경사하강법\n",
    "- SGDRegressor"
   ]
  },
  {
   "cell_type": "code",
   "execution_count": 23,
   "id": "be9adccf",
   "metadata": {},
   "outputs": [],
   "source": [
    "from sklearn.linear_model import SGDRegressor"
   ]
  },
  {
   "cell_type": "code",
   "execution_count": 27,
   "id": "62d22032",
   "metadata": {
    "collapsed": true
   },
   "outputs": [
    {
     "name": "stdout",
     "output_type": "stream",
     "text": [
      "-- Epoch 1\n",
      "Norm: 1.40, NNZs: 1, Bias: 0.188394, T: 4, Avg. loss: 1872.600549\n",
      "Total training time: 0.00 seconds.\n",
      "-- Epoch 2\n",
      "Norm: 2.24, NNZs: 1, Bias: 0.306665, T: 8, Avg. loss: 1422.999621\n",
      "Total training time: 0.00 seconds.\n",
      "-- Epoch 3\n",
      "Norm: 2.94, NNZs: 1, Bias: 0.402747, T: 12, Avg. loss: 1161.121261\n",
      "Total training time: 0.00 seconds.\n",
      "-- Epoch 4\n",
      "Norm: 3.51, NNZs: 1, Bias: 0.482778, T: 16, Avg. loss: 962.115137\n",
      "Total training time: 0.00 seconds.\n",
      "-- Epoch 5\n",
      "Norm: 4.01, NNZs: 1, Bias: 0.552072, T: 20, Avg. loss: 811.247925\n",
      "Total training time: 0.00 seconds.\n",
      "-- Epoch 6\n",
      "Norm: 4.44, NNZs: 1, Bias: 0.612808, T: 24, Avg. loss: 688.877891\n",
      "Total training time: 0.00 seconds.\n",
      "-- Epoch 7\n",
      "Norm: 4.83, NNZs: 1, Bias: 0.666701, T: 28, Avg. loss: 590.599912\n",
      "Total training time: 0.00 seconds.\n",
      "-- Epoch 8\n",
      "Norm: 5.18, NNZs: 1, Bias: 0.715052, T: 32, Avg. loss: 508.545569\n",
      "Total training time: 0.00 seconds.\n",
      "-- Epoch 9\n",
      "Norm: 5.50, NNZs: 1, Bias: 0.758545, T: 36, Avg. loss: 440.731401\n",
      "Total training time: 0.00 seconds.\n",
      "-- Epoch 10\n",
      "Norm: 5.78, NNZs: 1, Bias: 0.798105, T: 40, Avg. loss: 383.122890\n",
      "Total training time: 0.00 seconds.\n",
      "-- Epoch 11\n",
      "Norm: 6.04, NNZs: 1, Bias: 0.834011, T: 44, Avg. loss: 334.653595\n",
      "Total training time: 0.00 seconds.\n",
      "-- Epoch 12\n",
      "Norm: 6.28, NNZs: 1, Bias: 0.866970, T: 48, Avg. loss: 292.986270\n",
      "Total training time: 0.00 seconds.\n",
      "-- Epoch 13\n",
      "Norm: 6.50, NNZs: 1, Bias: 0.897079, T: 52, Avg. loss: 257.487439\n",
      "Total training time: 0.00 seconds.\n",
      "-- Epoch 14\n",
      "Norm: 6.70, NNZs: 1, Bias: 0.924901, T: 56, Avg. loss: 226.699511\n",
      "Total training time: 0.00 seconds.\n",
      "-- Epoch 15\n",
      "Norm: 6.89, NNZs: 1, Bias: 0.950442, T: 60, Avg. loss: 200.221289\n",
      "Total training time: 0.00 seconds.\n",
      "-- Epoch 16\n",
      "Norm: 7.06, NNZs: 1, Bias: 0.974164, T: 64, Avg. loss: 177.097442\n",
      "Total training time: 0.00 seconds.\n",
      "-- Epoch 17\n",
      "Norm: 7.22, NNZs: 1, Bias: 0.996024, T: 68, Avg. loss: 157.062204\n",
      "Total training time: 0.00 seconds.\n",
      "-- Epoch 18\n",
      "Norm: 7.36, NNZs: 1, Bias: 1.016410, T: 72, Avg. loss: 139.466501\n",
      "Total training time: 0.00 seconds.\n",
      "-- Epoch 19\n",
      "Norm: 7.50, NNZs: 1, Bias: 1.035256, T: 76, Avg. loss: 124.128291\n",
      "Total training time: 0.00 seconds.\n",
      "-- Epoch 20\n",
      "Norm: 7.63, NNZs: 1, Bias: 1.052889, T: 80, Avg. loss: 110.594355\n",
      "Total training time: 0.00 seconds.\n",
      "-- Epoch 21\n",
      "Norm: 7.75, NNZs: 1, Bias: 1.069232, T: 84, Avg. loss: 98.736706\n",
      "Total training time: 0.00 seconds.\n",
      "-- Epoch 22\n",
      "Norm: 7.86, NNZs: 1, Bias: 1.084565, T: 88, Avg. loss: 88.231983\n",
      "Total training time: 0.00 seconds.\n",
      "-- Epoch 23\n",
      "Norm: 7.97, NNZs: 1, Bias: 1.098808, T: 92, Avg. loss: 78.988293\n",
      "Total training time: 0.00 seconds.\n",
      "-- Epoch 24\n",
      "Norm: 8.06, NNZs: 1, Bias: 1.112202, T: 96, Avg. loss: 70.770856\n",
      "Total training time: 0.00 seconds.\n",
      "-- Epoch 25\n",
      "Norm: 8.16, NNZs: 1, Bias: 1.124668, T: 100, Avg. loss: 63.512533\n",
      "Total training time: 0.00 seconds.\n",
      "-- Epoch 26\n",
      "Norm: 8.24, NNZs: 1, Bias: 1.136414, T: 104, Avg. loss: 57.040374\n",
      "Total training time: 0.00 seconds.\n",
      "-- Epoch 27\n",
      "Norm: 8.32, NNZs: 1, Bias: 1.147364, T: 108, Avg. loss: 51.304594\n",
      "Total training time: 0.00 seconds.\n",
      "-- Epoch 28\n",
      "Norm: 8.40, NNZs: 1, Bias: 1.157700, T: 112, Avg. loss: 46.176222\n",
      "Total training time: 0.00 seconds.\n",
      "-- Epoch 29\n",
      "Norm: 8.47, NNZs: 1, Bias: 1.167349, T: 116, Avg. loss: 41.617865\n",
      "Total training time: 0.00 seconds.\n",
      "-- Epoch 30\n",
      "Norm: 8.54, NNZs: 1, Bias: 1.176471, T: 120, Avg. loss: 37.532340\n",
      "Total training time: 0.00 seconds.\n",
      "-- Epoch 31\n",
      "Norm: 8.60, NNZs: 1, Bias: 1.184996, T: 124, Avg. loss: 33.891244\n",
      "Total training time: 0.00 seconds.\n",
      "-- Epoch 32\n",
      "Norm: 8.66, NNZs: 1, Bias: 1.193068, T: 128, Avg. loss: 30.620678\n",
      "Total training time: 0.00 seconds.\n",
      "-- Epoch 33\n",
      "Norm: 8.72, NNZs: 1, Bias: 1.200619, T: 132, Avg. loss: 27.698850\n",
      "Total training time: 0.00 seconds.\n",
      "-- Epoch 34\n",
      "Norm: 8.77, NNZs: 1, Bias: 1.207778, T: 136, Avg. loss: 25.069125\n",
      "Total training time: 0.00 seconds.\n",
      "-- Epoch 35\n",
      "Norm: 8.82, NNZs: 1, Bias: 1.214481, T: 140, Avg. loss: 22.714625\n",
      "Total training time: 0.00 seconds.\n",
      "-- Epoch 36\n",
      "Norm: 8.87, NNZs: 1, Bias: 1.220842, T: 144, Avg. loss: 20.591646\n",
      "Total training time: 0.00 seconds.\n",
      "-- Epoch 37\n",
      "Norm: 8.91, NNZs: 1, Bias: 1.226803, T: 148, Avg. loss: 18.687007\n",
      "Total training time: 0.00 seconds.\n",
      "-- Epoch 38\n",
      "Norm: 8.96, NNZs: 1, Bias: 1.232466, T: 152, Avg. loss: 16.966773\n",
      "Total training time: 0.00 seconds.\n",
      "-- Epoch 39\n",
      "Norm: 9.00, NNZs: 1, Bias: 1.237776, T: 156, Avg. loss: 15.420571\n",
      "Total training time: 0.00 seconds.\n",
      "-- Epoch 40\n",
      "Norm: 9.03, NNZs: 1, Bias: 1.242825, T: 160, Avg. loss: 14.021907\n",
      "Total training time: 0.00 seconds.\n",
      "-- Epoch 41\n",
      "Norm: 9.07, NNZs: 1, Bias: 1.247563, T: 164, Avg. loss: 12.762559\n",
      "Total training time: 0.00 seconds.\n",
      "-- Epoch 42\n",
      "Norm: 9.10, NNZs: 1, Bias: 1.252071, T: 168, Avg. loss: 11.621740\n",
      "Total training time: 0.00 seconds.\n",
      "-- Epoch 43\n",
      "Norm: 9.14, NNZs: 1, Bias: 1.256302, T: 172, Avg. loss: 10.592890\n",
      "Total training time: 0.00 seconds.\n",
      "-- Epoch 44\n",
      "Norm: 9.17, NNZs: 1, Bias: 1.260332, T: 176, Avg. loss: 9.659631\n",
      "Total training time: 0.00 seconds.\n",
      "-- Epoch 45\n",
      "Norm: 9.20, NNZs: 1, Bias: 1.264116, T: 180, Avg. loss: 8.816690\n",
      "Total training time: 0.00 seconds.\n",
      "-- Epoch 46\n",
      "Norm: 9.22, NNZs: 1, Bias: 1.267722, T: 184, Avg. loss: 8.051114\n",
      "Total training time: 0.00 seconds.\n",
      "-- Epoch 47\n",
      "Norm: 9.25, NNZs: 1, Bias: 1.271109, T: 188, Avg. loss: 7.358642\n",
      "Total training time: 0.00 seconds.\n",
      "-- Epoch 48\n",
      "Norm: 9.28, NNZs: 1, Bias: 1.274338, T: 192, Avg. loss: 6.728991\n",
      "Total training time: 0.00 seconds.\n",
      "-- Epoch 49\n",
      "Norm: 9.30, NNZs: 1, Bias: 1.277372, T: 196, Avg. loss: 6.158696\n",
      "Total training time: 0.00 seconds.\n",
      "-- Epoch 50\n",
      "Norm: 9.32, NNZs: 1, Bias: 1.280266, T: 200, Avg. loss: 5.639572\n",
      "Total training time: 0.00 seconds.\n",
      "-- Epoch 51\n",
      "Norm: 9.34, NNZs: 1, Bias: 1.282986, T: 204, Avg. loss: 5.168785\n",
      "Total training time: 0.00 seconds.\n",
      "-- Epoch 52\n",
      "Norm: 9.36, NNZs: 1, Bias: 1.285581, T: 208, Avg. loss: 4.739801\n",
      "Total training time: 0.00 seconds.\n",
      "-- Epoch 53\n",
      "Norm: 9.38, NNZs: 1, Bias: 1.288020, T: 212, Avg. loss: 4.350287\n",
      "Total training time: 0.00 seconds.\n",
      "-- Epoch 54\n",
      "Norm: 9.40, NNZs: 1, Bias: 1.290348, T: 216, Avg. loss: 3.995018\n",
      "Total training time: 0.00 seconds.\n",
      "-- Epoch 55\n",
      "Norm: 9.42, NNZs: 1, Bias: 1.292535, T: 220, Avg. loss: 3.672063\n",
      "Total training time: 0.00 seconds.\n",
      "-- Epoch 56\n",
      "Norm: 9.44, NNZs: 1, Bias: 1.294625, T: 224, Avg. loss: 3.377233\n",
      "Total training time: 0.00 seconds.\n",
      "-- Epoch 57\n",
      "Norm: 9.45, NNZs: 1, Bias: 1.296587, T: 228, Avg. loss: 3.108923\n",
      "Total training time: 0.00 seconds.\n",
      "-- Epoch 58\n",
      "Norm: 9.47, NNZs: 1, Bias: 1.298462, T: 232, Avg. loss: 2.863770\n",
      "Total training time: 0.00 seconds.\n",
      "-- Epoch 59\n",
      "Norm: 9.48, NNZs: 1, Bias: 1.300222, T: 236, Avg. loss: 2.640431\n",
      "Total training time: 0.00 seconds.\n",
      "-- Epoch 60\n",
      "Norm: 9.50, NNZs: 1, Bias: 1.301905, T: 240, Avg. loss: 2.436202\n",
      "Total training time: 0.00 seconds.\n",
      "-- Epoch 61\n",
      "Norm: 9.51, NNZs: 1, Bias: 1.303484, T: 244, Avg. loss: 2.249957\n",
      "Total training time: 0.00 seconds.\n",
      "-- Epoch 62\n",
      "Norm: 9.52, NNZs: 1, Bias: 1.304994, T: 248, Avg. loss: 2.079517\n",
      "Total training time: 0.00 seconds.\n",
      "-- Epoch 63\n",
      "Norm: 9.54, NNZs: 1, Bias: 1.306410, T: 252, Avg. loss: 1.923932\n",
      "Total training time: 0.00 seconds.\n",
      "-- Epoch 64\n",
      "Norm: 9.55, NNZs: 1, Bias: 1.307764, T: 256, Avg. loss: 1.781448\n",
      "Total training time: 0.00 seconds.\n",
      "-- Epoch 65\n",
      "Norm: 9.56, NNZs: 1, Bias: 1.309033, T: 260, Avg. loss: 1.651258\n",
      "Total training time: 0.00 seconds.\n",
      "-- Epoch 66\n",
      "Norm: 9.57, NNZs: 1, Bias: 1.310247, T: 264, Avg. loss: 1.531950\n",
      "Total training time: 0.00 seconds.\n",
      "-- Epoch 67\n",
      "Norm: 9.58, NNZs: 1, Bias: 1.311383, T: 268, Avg. loss: 1.422834\n",
      "Total training time: 0.00 seconds.\n",
      "-- Epoch 68\n",
      "Norm: 9.59, NNZs: 1, Bias: 1.312470, T: 272, Avg. loss: 1.322776\n",
      "Total training time: 0.00 seconds.\n",
      "-- Epoch 69\n",
      "Norm: 9.60, NNZs: 1, Bias: 1.313486, T: 276, Avg. loss: 1.231182\n",
      "Total training time: 0.00 seconds.\n",
      "-- Epoch 70\n",
      "Norm: 9.61, NNZs: 1, Bias: 1.314459, T: 280, Avg. loss: 1.147140\n",
      "Total training time: 0.00 seconds.\n",
      "-- Epoch 71\n",
      "Norm: 9.61, NNZs: 1, Bias: 1.315367, T: 284, Avg. loss: 1.070140\n",
      "Total training time: 0.00 seconds.\n",
      "-- Epoch 72\n",
      "Norm: 9.62, NNZs: 1, Bias: 1.316236, T: 288, Avg. loss: 0.999449\n",
      "Total training time: 0.00 seconds.\n",
      "-- Epoch 73\n",
      "Norm: 9.63, NNZs: 1, Bias: 1.317047, T: 292, Avg. loss: 0.934624\n",
      "Total training time: 0.00 seconds.\n",
      "-- Epoch 74\n",
      "Norm: 9.64, NNZs: 1, Bias: 1.317822, T: 296, Avg. loss: 0.875079\n",
      "Total training time: 0.00 seconds.\n",
      "-- Epoch 75\n",
      "Norm: 9.64, NNZs: 1, Bias: 1.318543, T: 300, Avg. loss: 0.820429\n",
      "Total training time: 0.00 seconds.\n",
      "-- Epoch 76\n",
      "Norm: 9.65, NNZs: 1, Bias: 1.319234, T: 304, Avg. loss: 0.770205\n",
      "Total training time: 0.00 seconds.\n",
      "-- Epoch 77\n",
      "Norm: 9.66, NNZs: 1, Bias: 1.319875, T: 308, Avg. loss: 0.724071\n",
      "Total training time: 0.00 seconds.\n",
      "-- Epoch 78\n",
      "Norm: 9.66, NNZs: 1, Bias: 1.320488, T: 312, Avg. loss: 0.681653\n",
      "Total training time: 0.00 seconds.\n",
      "-- Epoch 79\n",
      "Norm: 9.67, NNZs: 1, Bias: 1.321056, T: 316, Avg. loss: 0.642657\n",
      "Total training time: 0.00 seconds.\n",
      "-- Epoch 80\n",
      "Norm: 9.68, NNZs: 1, Bias: 1.321600, T: 320, Avg. loss: 0.606787\n",
      "Total training time: 0.00 seconds.\n",
      "-- Epoch 81\n",
      "Norm: 9.68, NNZs: 1, Bias: 1.322102, T: 324, Avg. loss: 0.573782\n",
      "Total training time: 0.00 seconds.\n",
      "-- Epoch 82\n",
      "Norm: 9.69, NNZs: 1, Bias: 1.322581, T: 328, Avg. loss: 0.543412\n",
      "Total training time: 0.00 seconds.\n",
      "-- Epoch 83\n",
      "Norm: 9.69, NNZs: 1, Bias: 1.323023, T: 332, Avg. loss: 0.515444\n",
      "Total training time: 0.00 seconds.\n",
      "-- Epoch 84\n",
      "Norm: 9.70, NNZs: 1, Bias: 1.323445, T: 336, Avg. loss: 0.489699\n",
      "Total training time: 0.00 seconds.\n",
      "-- Epoch 85\n",
      "Norm: 9.70, NNZs: 1, Bias: 1.323832, T: 340, Avg. loss: 0.465971\n",
      "Total training time: 0.00 seconds.\n",
      "-- Epoch 86\n",
      "Norm: 9.70, NNZs: 1, Bias: 1.324201, T: 344, Avg. loss: 0.444121\n",
      "Total training time: 0.00 seconds.\n",
      "-- Epoch 87\n",
      "Norm: 9.71, NNZs: 1, Bias: 1.324538, T: 348, Avg. loss: 0.423966\n",
      "Total training time: 0.00 seconds.\n",
      "-- Epoch 88\n",
      "Norm: 9.71, NNZs: 1, Bias: 1.324860, T: 352, Avg. loss: 0.405401\n",
      "Total training time: 0.00 seconds.\n",
      "-- Epoch 89\n",
      "Norm: 9.72, NNZs: 1, Bias: 1.325151, T: 356, Avg. loss: 0.388261\n",
      "Total training time: 0.00 seconds.\n",
      "-- Epoch 90\n",
      "Norm: 9.72, NNZs: 1, Bias: 1.325429, T: 360, Avg. loss: 0.372469\n",
      "Total training time: 0.00 seconds.\n",
      "-- Epoch 91\n",
      "Norm: 9.72, NNZs: 1, Bias: 1.325679, T: 364, Avg. loss: 0.357877\n",
      "Total training time: 0.00 seconds.\n",
      "-- Epoch 92\n",
      "Norm: 9.73, NNZs: 1, Bias: 1.325917, T: 368, Avg. loss: 0.344430\n",
      "Total training time: 0.00 seconds.\n",
      "-- Epoch 93\n",
      "Norm: 9.73, NNZs: 1, Bias: 1.326130, T: 372, Avg. loss: 0.331992\n",
      "Total training time: 0.00 seconds.\n",
      "-- Epoch 94\n",
      "Norm: 9.73, NNZs: 1, Bias: 1.326331, T: 376, Avg. loss: 0.320529\n",
      "Total training time: 0.00 seconds.\n",
      "-- Epoch 95\n",
      "Norm: 9.74, NNZs: 1, Bias: 1.326509, T: 380, Avg. loss: 0.309916\n",
      "Total training time: 0.00 seconds.\n",
      "-- Epoch 96\n",
      "Norm: 9.74, NNZs: 1, Bias: 1.326678, T: 384, Avg. loss: 0.300133\n",
      "Total training time: 0.00 seconds.\n",
      "-- Epoch 97\n",
      "Norm: 9.74, NNZs: 1, Bias: 1.326825, T: 388, Avg. loss: 0.291068\n",
      "Total training time: 0.00 seconds.\n",
      "-- Epoch 98\n",
      "Norm: 9.75, NNZs: 1, Bias: 1.326963, T: 392, Avg. loss: 0.282710\n",
      "Total training time: 0.00 seconds.\n",
      "-- Epoch 99\n",
      "Norm: 9.75, NNZs: 1, Bias: 1.327081, T: 396, Avg. loss: 0.274958\n",
      "Total training time: 0.00 seconds.\n",
      "-- Epoch 100\n",
      "Norm: 9.75, NNZs: 1, Bias: 1.327191, T: 400, Avg. loss: 0.267811\n",
      "Total training time: 0.00 seconds.\n",
      "-- Epoch 101\n",
      "Norm: 9.75, NNZs: 1, Bias: 1.327283, T: 404, Avg. loss: 0.261174\n",
      "Total training time: 0.00 seconds.\n",
      "-- Epoch 102\n",
      "Norm: 9.75, NNZs: 1, Bias: 1.327368, T: 408, Avg. loss: 0.255055\n",
      "Total training time: 0.00 seconds.\n",
      "-- Epoch 103\n",
      "Norm: 9.76, NNZs: 1, Bias: 1.327436, T: 412, Avg. loss: 0.249368\n",
      "Total training time: 0.00 seconds.\n",
      "-- Epoch 104\n",
      "Norm: 9.76, NNZs: 1, Bias: 1.327498, T: 416, Avg. loss: 0.244124\n",
      "Total training time: 0.00 seconds.\n",
      "-- Epoch 105\n",
      "Norm: 9.76, NNZs: 1, Bias: 1.327544, T: 420, Avg. loss: 0.239243\n",
      "Total training time: 0.00 seconds.\n",
      "-- Epoch 106\n",
      "Norm: 9.76, NNZs: 1, Bias: 1.327585, T: 424, Avg. loss: 0.234745\n",
      "Total training time: 0.00 seconds.\n",
      "-- Epoch 107\n",
      "Norm: 9.76, NNZs: 1, Bias: 1.327611, T: 428, Avg. loss: 0.230552\n",
      "Total training time: 0.00 seconds.\n",
      "-- Epoch 108\n",
      "Norm: 9.77, NNZs: 1, Bias: 1.327633, T: 432, Avg. loss: 0.226689\n",
      "Total training time: 0.00 seconds.\n",
      "-- Epoch 109\n",
      "Norm: 9.77, NNZs: 1, Bias: 1.327640, T: 436, Avg. loss: 0.223084\n",
      "Total training time: 0.00 seconds.\n",
      "-- Epoch 110\n",
      "Norm: 9.77, NNZs: 1, Bias: 1.327644, T: 440, Avg. loss: 0.219761\n",
      "Total training time: 0.00 seconds.\n",
      "-- Epoch 111\n",
      "Norm: 9.77, NNZs: 1, Bias: 1.327634, T: 444, Avg. loss: 0.216657\n",
      "Total training time: 0.00 seconds.\n",
      "-- Epoch 112\n",
      "Norm: 9.77, NNZs: 1, Bias: 1.327622, T: 448, Avg. loss: 0.213798\n",
      "Total training time: 0.00 seconds.\n",
      "-- Epoch 113\n",
      "Norm: 9.77, NNZs: 1, Bias: 1.327597, T: 452, Avg. loss: 0.211122\n",
      "Total training time: 0.00 seconds.\n",
      "-- Epoch 114\n",
      "Norm: 9.78, NNZs: 1, Bias: 1.327570, T: 456, Avg. loss: 0.208658\n",
      "Total training time: 0.00 seconds.\n",
      "-- Epoch 115\n",
      "Norm: 9.78, NNZs: 1, Bias: 1.327531, T: 460, Avg. loss: 0.206348\n",
      "Total training time: 0.00 seconds.\n",
      "-- Epoch 116\n",
      "Norm: 9.78, NNZs: 1, Bias: 1.327491, T: 464, Avg. loss: 0.204222\n",
      "Total training time: 0.00 seconds.\n",
      "-- Epoch 117\n",
      "Norm: 9.78, NNZs: 1, Bias: 1.327439, T: 468, Avg. loss: 0.202226\n",
      "Total training time: 0.00 seconds.\n",
      "-- Epoch 118\n",
      "Norm: 9.78, NNZs: 1, Bias: 1.327386, T: 472, Avg. loss: 0.200389\n",
      "Total training time: 0.00 seconds.\n",
      "-- Epoch 119\n",
      "Norm: 9.78, NNZs: 1, Bias: 1.327322, T: 476, Avg. loss: 0.198662\n",
      "Total training time: 0.00 seconds.\n",
      "-- Epoch 120\n",
      "Norm: 9.78, NNZs: 1, Bias: 1.327257, T: 480, Avg. loss: 0.197073\n",
      "Total training time: 0.00 seconds.\n",
      "-- Epoch 121\n",
      "Norm: 9.78, NNZs: 1, Bias: 1.327183, T: 484, Avg. loss: 0.195575\n",
      "Total training time: 0.00 seconds.\n",
      "-- Epoch 122\n",
      "Norm: 9.79, NNZs: 1, Bias: 1.327108, T: 488, Avg. loss: 0.194199\n",
      "Total training time: 0.00 seconds.\n",
      "-- Epoch 123\n",
      "Norm: 9.79, NNZs: 1, Bias: 1.327023, T: 492, Avg. loss: 0.192899\n",
      "Total training time: 0.00 seconds.\n",
      "-- Epoch 124\n",
      "Norm: 9.79, NNZs: 1, Bias: 1.326939, T: 496, Avg. loss: 0.191706\n",
      "Total training time: 0.00 seconds.\n",
      "-- Epoch 125\n",
      "Norm: 9.79, NNZs: 1, Bias: 1.326845, T: 500, Avg. loss: 0.190576\n",
      "Total training time: 0.00 seconds.\n",
      "-- Epoch 126\n",
      "Norm: 9.79, NNZs: 1, Bias: 1.326752, T: 504, Avg. loss: 0.189539\n",
      "Total training time: 0.00 seconds.\n",
      "-- Epoch 127\n",
      "Norm: 9.79, NNZs: 1, Bias: 1.326649, T: 508, Avg. loss: 0.188554\n",
      "Total training time: 0.00 seconds.\n",
      "-- Epoch 128\n",
      "Norm: 9.79, NNZs: 1, Bias: 1.326548, T: 512, Avg. loss: 0.187652\n",
      "Total training time: 0.00 seconds.\n",
      "-- Epoch 129\n",
      "Norm: 9.79, NNZs: 1, Bias: 1.326438, T: 516, Avg. loss: 0.186793\n",
      "Total training time: 0.00 seconds.\n",
      "-- Epoch 130\n",
      "Norm: 9.79, NNZs: 1, Bias: 1.326330, T: 520, Avg. loss: 0.186006\n",
      "Total training time: 0.00 seconds.\n",
      "-- Epoch 131\n",
      "Norm: 9.79, NNZs: 1, Bias: 1.326213, T: 524, Avg. loss: 0.185255\n",
      "Total training time: 0.00 seconds.\n",
      "Convergence after 131 epochs took 0.00 seconds\n"
     ]
    },
    {
     "data": {
      "text/html": [
       "<style>#sk-container-id-3 {color: black;}#sk-container-id-3 pre{padding: 0;}#sk-container-id-3 div.sk-toggleable {background-color: white;}#sk-container-id-3 label.sk-toggleable__label {cursor: pointer;display: block;width: 100%;margin-bottom: 0;padding: 0.3em;box-sizing: border-box;text-align: center;}#sk-container-id-3 label.sk-toggleable__label-arrow:before {content: \"▸\";float: left;margin-right: 0.25em;color: #696969;}#sk-container-id-3 label.sk-toggleable__label-arrow:hover:before {color: black;}#sk-container-id-3 div.sk-estimator:hover label.sk-toggleable__label-arrow:before {color: black;}#sk-container-id-3 div.sk-toggleable__content {max-height: 0;max-width: 0;overflow: hidden;text-align: left;background-color: #f0f8ff;}#sk-container-id-3 div.sk-toggleable__content pre {margin: 0.2em;color: black;border-radius: 0.25em;background-color: #f0f8ff;}#sk-container-id-3 input.sk-toggleable__control:checked~div.sk-toggleable__content {max-height: 200px;max-width: 100%;overflow: auto;}#sk-container-id-3 input.sk-toggleable__control:checked~label.sk-toggleable__label-arrow:before {content: \"▾\";}#sk-container-id-3 div.sk-estimator input.sk-toggleable__control:checked~label.sk-toggleable__label {background-color: #d4ebff;}#sk-container-id-3 div.sk-label input.sk-toggleable__control:checked~label.sk-toggleable__label {background-color: #d4ebff;}#sk-container-id-3 input.sk-hidden--visually {border: 0;clip: rect(1px 1px 1px 1px);clip: rect(1px, 1px, 1px, 1px);height: 1px;margin: -1px;overflow: hidden;padding: 0;position: absolute;width: 1px;}#sk-container-id-3 div.sk-estimator {font-family: monospace;background-color: #f0f8ff;border: 1px dotted black;border-radius: 0.25em;box-sizing: border-box;margin-bottom: 0.5em;}#sk-container-id-3 div.sk-estimator:hover {background-color: #d4ebff;}#sk-container-id-3 div.sk-parallel-item::after {content: \"\";width: 100%;border-bottom: 1px solid gray;flex-grow: 1;}#sk-container-id-3 div.sk-label:hover label.sk-toggleable__label {background-color: #d4ebff;}#sk-container-id-3 div.sk-serial::before {content: \"\";position: absolute;border-left: 1px solid gray;box-sizing: border-box;top: 0;bottom: 0;left: 50%;z-index: 0;}#sk-container-id-3 div.sk-serial {display: flex;flex-direction: column;align-items: center;background-color: white;padding-right: 0.2em;padding-left: 0.2em;position: relative;}#sk-container-id-3 div.sk-item {position: relative;z-index: 1;}#sk-container-id-3 div.sk-parallel {display: flex;align-items: stretch;justify-content: center;background-color: white;position: relative;}#sk-container-id-3 div.sk-item::before, #sk-container-id-3 div.sk-parallel-item::before {content: \"\";position: absolute;border-left: 1px solid gray;box-sizing: border-box;top: 0;bottom: 0;left: 50%;z-index: -1;}#sk-container-id-3 div.sk-parallel-item {display: flex;flex-direction: column;z-index: 1;position: relative;background-color: white;}#sk-container-id-3 div.sk-parallel-item:first-child::after {align-self: flex-end;width: 50%;}#sk-container-id-3 div.sk-parallel-item:last-child::after {align-self: flex-start;width: 50%;}#sk-container-id-3 div.sk-parallel-item:only-child::after {width: 0;}#sk-container-id-3 div.sk-dashed-wrapped {border: 1px dashed gray;margin: 0 0.4em 0.5em 0.4em;box-sizing: border-box;padding-bottom: 0.4em;background-color: white;}#sk-container-id-3 div.sk-label label {font-family: monospace;font-weight: bold;display: inline-block;line-height: 1.2em;}#sk-container-id-3 div.sk-label-container {text-align: center;}#sk-container-id-3 div.sk-container {/* jupyter's `normalize.less` sets `[hidden] { display: none; }` but bootstrap.min.css set `[hidden] { display: none !important; }` so we also need the `!important` here to be able to override the default hidden behavior on the sphinx rendered scikit-learn.org. See: https://github.com/scikit-learn/scikit-learn/issues/21755 */display: inline-block !important;position: relative;}#sk-container-id-3 div.sk-text-repr-fallback {display: none;}</style><div id=\"sk-container-id-3\" class=\"sk-top-container\"><div class=\"sk-text-repr-fallback\"><pre>SGDRegressor(eta0=0.001, max_iter=5000, verbose=1)</pre><b>In a Jupyter environment, please rerun this cell to show the HTML representation or trust the notebook. <br />On GitHub, the HTML representation is unable to render, please try loading this page with nbviewer.org.</b></div><div class=\"sk-container\" hidden><div class=\"sk-item\"><div class=\"sk-estimator sk-toggleable\"><input class=\"sk-toggleable__control sk-hidden--visually\" id=\"sk-estimator-id-3\" type=\"checkbox\" checked><label for=\"sk-estimator-id-3\" class=\"sk-toggleable__label sk-toggleable__label-arrow\">SGDRegressor</label><div class=\"sk-toggleable__content\"><pre>SGDRegressor(eta0=0.001, max_iter=5000, verbose=1)</pre></div></div></div></div></div>"
      ],
      "text/plain": [
       "SGDRegressor(eta0=0.001, max_iter=5000, verbose=1)"
      ]
     },
     "execution_count": 27,
     "metadata": {},
     "output_type": "execute_result"
    }
   ],
   "source": [
    "# 모델 생성 및 하이퍼파라미터 설정\n",
    "sgd_model = SGDRegressor(\n",
    "    max_iter=5000,   # 가중치 업데이트 반복 횟수\n",
    "    eta0 = 0.001,    # 학습률(learning rate)\n",
    "    verbose = 1\n",
    ")\n",
    "\n",
    "# 학습\n",
    "sgd_model.fit(data[['시간']], data['성적'])\n",
    "# Epoch : max_iter - 5000번 수행해야하지만, loss값 별로 변동 없어 131번째 반복에서 학습종료\n",
    "# loss  : cost (비용)"
   ]
  },
  {
   "cell_type": "code",
   "execution_count": 30,
   "id": "b8884bd9",
   "metadata": {},
   "outputs": [
    {
     "data": {
      "text/plain": [
       "array([69.8830446])"
      ]
     },
     "execution_count": 30,
     "metadata": {},
     "output_type": "execute_result"
    }
   ],
   "source": [
    "# 예측\n",
    "sgd_model.predict([[7]])"
   ]
  },
  {
   "cell_type": "code",
   "execution_count": 31,
   "id": "85408932",
   "metadata": {},
   "outputs": [
    {
     "data": {
      "text/plain": [
       "(array([9.79383312]), array([1.32621275]))"
      ]
     },
     "execution_count": 31,
     "metadata": {},
     "output_type": "execute_result"
    }
   ],
   "source": [
    "# 가중치(w), 편향(b) 확인하기\n",
    "sgd_model.coef_, sgd_model.intercept_"
   ]
  },
  {
   "cell_type": "code",
   "execution_count": 32,
   "id": "3bdc7480",
   "metadata": {},
   "outputs": [
    {
     "data": {
      "text/plain": [
       "0.9995507549747388"
      ]
     },
     "execution_count": 32,
     "metadata": {},
     "output_type": "execute_result"
    }
   ],
   "source": [
    "sgd_model.score(data[['시간']], data['성적'])\n",
    "# 1에 가까울수록 모델이 예측한 성능이 높다고 판단"
   ]
  },
  {
   "cell_type": "code",
   "execution_count": null,
   "id": "1a3fc03d",
   "metadata": {},
   "outputs": [],
   "source": []
  },
  {
   "cell_type": "code",
   "execution_count": null,
   "id": "2975d088",
   "metadata": {},
   "outputs": [],
   "source": []
  },
  {
   "cell_type": "code",
   "execution_count": null,
   "id": "c5280a5a",
   "metadata": {},
   "outputs": [],
   "source": []
  },
  {
   "cell_type": "code",
   "execution_count": null,
   "id": "408a6550",
   "metadata": {},
   "outputs": [],
   "source": []
  },
  {
   "cell_type": "code",
   "execution_count": null,
   "id": "034cd837",
   "metadata": {},
   "outputs": [],
   "source": []
  },
  {
   "cell_type": "code",
   "execution_count": null,
   "id": "36dce28d",
   "metadata": {},
   "outputs": [],
   "source": []
  },
  {
   "cell_type": "code",
   "execution_count": null,
   "id": "aabbb59c",
   "metadata": {},
   "outputs": [],
   "source": []
  },
  {
   "cell_type": "code",
   "execution_count": null,
   "id": "7b064fd4",
   "metadata": {},
   "outputs": [],
   "source": []
  },
  {
   "cell_type": "code",
   "execution_count": null,
   "id": "3f7a7de6",
   "metadata": {},
   "outputs": [],
   "source": []
  },
  {
   "cell_type": "code",
   "execution_count": null,
   "id": "3a2833d2",
   "metadata": {},
   "outputs": [],
   "source": []
  },
  {
   "cell_type": "code",
   "execution_count": null,
   "id": "aec2c79f",
   "metadata": {},
   "outputs": [],
   "source": []
  },
  {
   "cell_type": "code",
   "execution_count": null,
   "id": "00691cca",
   "metadata": {},
   "outputs": [],
   "source": []
  },
  {
   "cell_type": "code",
   "execution_count": null,
   "id": "4cf23dc3",
   "metadata": {},
   "outputs": [],
   "source": []
  },
  {
   "cell_type": "code",
   "execution_count": null,
   "id": "83edf835",
   "metadata": {},
   "outputs": [],
   "source": []
  },
  {
   "cell_type": "code",
   "execution_count": null,
   "id": "138d5a98",
   "metadata": {},
   "outputs": [],
   "source": []
  },
  {
   "cell_type": "code",
   "execution_count": null,
   "id": "01e881af",
   "metadata": {},
   "outputs": [],
   "source": []
  },
  {
   "cell_type": "code",
   "execution_count": null,
   "id": "6d392ac1",
   "metadata": {},
   "outputs": [],
   "source": []
  },
  {
   "cell_type": "code",
   "execution_count": null,
   "id": "0f9f098a",
   "metadata": {},
   "outputs": [],
   "source": []
  },
  {
   "cell_type": "code",
   "execution_count": null,
   "id": "f41d0765",
   "metadata": {},
   "outputs": [],
   "source": []
  },
  {
   "cell_type": "code",
   "execution_count": null,
   "id": "075d4152",
   "metadata": {},
   "outputs": [],
   "source": []
  },
  {
   "cell_type": "code",
   "execution_count": null,
   "id": "8c557ca0",
   "metadata": {},
   "outputs": [],
   "source": []
  }
 ],
 "metadata": {
  "kernelspec": {
   "display_name": "Python 3 (ipykernel)",
   "language": "python",
   "name": "python3"
  },
  "language_info": {
   "codemirror_mode": {
    "name": "ipython",
    "version": 3
   },
   "file_extension": ".py",
   "mimetype": "text/x-python",
   "name": "python",
   "nbconvert_exporter": "python",
   "pygments_lexer": "ipython3",
   "version": "3.11.4"
  }
 },
 "nbformat": 4,
 "nbformat_minor": 5
}
