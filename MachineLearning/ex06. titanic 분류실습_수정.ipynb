{
 "cells": [
  {
   "cell_type": "markdown",
   "id": "f2c3b48d",
   "metadata": {},
   "source": [
    "### 목표\n",
    " - 타이타닉 데이터를 활용하여 생존자/사망자 예측해보자\n",
    " - kaggle 경진대회에 참가하여 우리 점수를 확인해보자\n",
    " - 머신러닝의 전체 과정을 체험해보자\n",
    " \n",
    " #### 머신러닝 과정\n",
    "  - 1. 문제정의 : 목표설정, 어떤 모델\n",
    "  - 2. 데이터 수집 : 분류를 할거라면 class로 담긴 레이블이 있는 데이터 수집 같은\n",
    "  - 3. 데이터 전처리 : 이상치/결측치 처리, 특성 처리(특성공학)\n",
    "  - 4. 데이터 탐색(탐색전 데이터 분석) : 기술 통계, 특성 간의 관계\n",
    "  - 5. 모델 선택 및 하이퍼 파라미터 설정\n",
    "  - 6. 모델 예측 및 평가\n",
    "  - 7. 모델 서비스화"
   ]
  },
  {
   "cell_type": "code",
   "execution_count": 1,
   "id": "4ff02ed0",
   "metadata": {},
   "outputs": [],
   "source": [
    "import numpy as np\n",
    "import pandas as pd\n",
    "import matplotlib.pyplot as plt # 시각화 라이브러리\n",
    "import seaborn as sns # 시각화 라이브러리\n",
    "# train, test 분리하는 도구\n",
    "from sklearn.model_selection import train_test_split\n",
    "# 평가 도구\n",
    "from sklearn.metrics import accuracy_score\n",
    "# tree model - 사망/생존 이진분류\n",
    "from sklearn.tree import DecisionTreeClassifier"
   ]
  },
  {
   "cell_type": "code",
   "execution_count": 2,
   "id": "7d4090c2",
   "metadata": {},
   "outputs": [],
   "source": [
    "# train , test 변수에 데이터 불러와서 담기\n",
    "# 단, 인덱스를 승객의 번호로 설정해서 담아줄 것\n"
   ]
  },
  {
   "cell_type": "code",
   "execution_count": 3,
   "id": "2194d32f",
   "metadata": {},
   "outputs": [
    {
     "data": {
      "text/html": [
       "<div>\n",
       "<style scoped>\n",
       "    .dataframe tbody tr th:only-of-type {\n",
       "        vertical-align: middle;\n",
       "    }\n",
       "\n",
       "    .dataframe tbody tr th {\n",
       "        vertical-align: top;\n",
       "    }\n",
       "\n",
       "    .dataframe thead th {\n",
       "        text-align: right;\n",
       "    }\n",
       "</style>\n",
       "<table border=\"1\" class=\"dataframe\">\n",
       "  <thead>\n",
       "    <tr style=\"text-align: right;\">\n",
       "      <th></th>\n",
       "      <th>Pclass</th>\n",
       "      <th>Name</th>\n",
       "      <th>Sex</th>\n",
       "      <th>Age</th>\n",
       "      <th>SibSp</th>\n",
       "      <th>Parch</th>\n",
       "      <th>Ticket</th>\n",
       "      <th>Fare</th>\n",
       "      <th>Cabin</th>\n",
       "      <th>Embarked</th>\n",
       "    </tr>\n",
       "    <tr>\n",
       "      <th>PassengerId</th>\n",
       "      <th></th>\n",
       "      <th></th>\n",
       "      <th></th>\n",
       "      <th></th>\n",
       "      <th></th>\n",
       "      <th></th>\n",
       "      <th></th>\n",
       "      <th></th>\n",
       "      <th></th>\n",
       "      <th></th>\n",
       "    </tr>\n",
       "  </thead>\n",
       "  <tbody>\n",
       "    <tr>\n",
       "      <th>892</th>\n",
       "      <td>3</td>\n",
       "      <td>Kelly, Mr. James</td>\n",
       "      <td>male</td>\n",
       "      <td>34.5</td>\n",
       "      <td>0</td>\n",
       "      <td>0</td>\n",
       "      <td>330911</td>\n",
       "      <td>7.8292</td>\n",
       "      <td>NaN</td>\n",
       "      <td>Q</td>\n",
       "    </tr>\n",
       "    <tr>\n",
       "      <th>893</th>\n",
       "      <td>3</td>\n",
       "      <td>Wilkes, Mrs. James (Ellen Needs)</td>\n",
       "      <td>female</td>\n",
       "      <td>47.0</td>\n",
       "      <td>1</td>\n",
       "      <td>0</td>\n",
       "      <td>363272</td>\n",
       "      <td>7.0000</td>\n",
       "      <td>NaN</td>\n",
       "      <td>S</td>\n",
       "    </tr>\n",
       "    <tr>\n",
       "      <th>894</th>\n",
       "      <td>2</td>\n",
       "      <td>Myles, Mr. Thomas Francis</td>\n",
       "      <td>male</td>\n",
       "      <td>62.0</td>\n",
       "      <td>0</td>\n",
       "      <td>0</td>\n",
       "      <td>240276</td>\n",
       "      <td>9.6875</td>\n",
       "      <td>NaN</td>\n",
       "      <td>Q</td>\n",
       "    </tr>\n",
       "  </tbody>\n",
       "</table>\n",
       "</div>"
      ],
      "text/plain": [
       "             Pclass                              Name     Sex   Age  SibSp  \\\n",
       "PassengerId                                                                  \n",
       "892               3                  Kelly, Mr. James    male  34.5      0   \n",
       "893               3  Wilkes, Mrs. James (Ellen Needs)  female  47.0      1   \n",
       "894               2         Myles, Mr. Thomas Francis    male  62.0      0   \n",
       "\n",
       "             Parch  Ticket    Fare Cabin Embarked  \n",
       "PassengerId                                        \n",
       "892              0  330911  7.8292   NaN        Q  \n",
       "893              0  363272  7.0000   NaN        S  \n",
       "894              0  240276  9.6875   NaN        Q  "
      ]
     },
     "execution_count": 3,
     "metadata": {},
     "output_type": "execute_result"
    }
   ],
   "source": [
    "train = pd.read_csv('./data/titanic/train.csv', index_col = 'PassengerId')\n",
    "test = pd.read_csv('./data/titanic/test.csv', index_col = 'PassengerId')\n",
    "\n",
    "train.head(3)\n",
    "test.head(3)"
   ]
  },
  {
   "cell_type": "code",
   "execution_count": 4,
   "id": "e2c84a7e",
   "metadata": {},
   "outputs": [
    {
     "name": "stdout",
     "output_type": "stream",
     "text": [
      "트레인 크기: (891, 11)\n",
      "테스트 크기: (418, 10)\n"
     ]
    }
   ],
   "source": [
    "# 크기 확인\n",
    "print('트레인 크기:', train.shape)\n",
    "print('테스트 크기:', test.shape) # test 정답 데이터 x (-1)"
   ]
  },
  {
   "cell_type": "code",
   "execution_count": 5,
   "id": "f75691e8",
   "metadata": {},
   "outputs": [
    {
     "name": "stdout",
     "output_type": "stream",
     "text": [
      "Index(['Survived', 'Pclass', 'Name', 'Sex', 'Age', 'SibSp', 'Parch', 'Ticket',\n",
      "       'Fare', 'Cabin', 'Embarked'],\n",
      "      dtype='object')\n",
      "Index(['Pclass', 'Name', 'Sex', 'Age', 'SibSp', 'Parch', 'Ticket', 'Fare',\n",
      "       'Cabin', 'Embarked'],\n",
      "      dtype='object')\n"
     ]
    }
   ],
   "source": [
    "# 컬럼명만 뽑아서 확인하기\n",
    "print(train.columns)\n",
    "print(test.columns)"
   ]
  },
  {
   "cell_type": "markdown",
   "id": "669fe8b4",
   "metadata": {},
   "source": [
    "### 데이터 전처리 및 데이터 탐색\n",
    "#### 결측치 확인"
   ]
  },
  {
   "cell_type": "code",
   "execution_count": 6,
   "id": "d3cd20e7",
   "metadata": {},
   "outputs": [
    {
     "name": "stdout",
     "output_type": "stream",
     "text": [
      "<class 'pandas.core.frame.DataFrame'>\n",
      "Int64Index: 891 entries, 1 to 891\n",
      "Data columns (total 11 columns):\n",
      " #   Column    Non-Null Count  Dtype  \n",
      "---  ------    --------------  -----  \n",
      " 0   Survived  891 non-null    int64  \n",
      " 1   Pclass    891 non-null    int64  \n",
      " 2   Name      891 non-null    object \n",
      " 3   Sex       891 non-null    object \n",
      " 4   Age       714 non-null    float64\n",
      " 5   SibSp     891 non-null    int64  \n",
      " 6   Parch     891 non-null    int64  \n",
      " 7   Ticket    891 non-null    object \n",
      " 8   Fare      891 non-null    float64\n",
      " 9   Cabin     204 non-null    object \n",
      " 10  Embarked  889 non-null    object \n",
      "dtypes: float64(2), int64(4), object(5)\n",
      "memory usage: 83.5+ KB\n"
     ]
    }
   ],
   "source": [
    "# info 함수 통해서 train 결측치 확인\n",
    "train.info()\n",
    "# 결측치 존재 컬럼 : Age, Cabin, Embarked"
   ]
  },
  {
   "cell_type": "code",
   "execution_count": 7,
   "id": "e8032747",
   "metadata": {},
   "outputs": [
    {
     "name": "stdout",
     "output_type": "stream",
     "text": [
      "<class 'pandas.core.frame.DataFrame'>\n",
      "Int64Index: 418 entries, 892 to 1309\n",
      "Data columns (total 10 columns):\n",
      " #   Column    Non-Null Count  Dtype  \n",
      "---  ------    --------------  -----  \n",
      " 0   Pclass    418 non-null    int64  \n",
      " 1   Name      418 non-null    object \n",
      " 2   Sex       418 non-null    object \n",
      " 3   Age       332 non-null    float64\n",
      " 4   SibSp     418 non-null    int64  \n",
      " 5   Parch     418 non-null    int64  \n",
      " 6   Ticket    418 non-null    object \n",
      " 7   Fare      417 non-null    float64\n",
      " 8   Cabin     91 non-null     object \n",
      " 9   Embarked  418 non-null    object \n",
      "dtypes: float64(2), int64(3), object(5)\n",
      "memory usage: 35.9+ KB\n"
     ]
    }
   ],
   "source": [
    "# info 함수 통해서 test 결측치 확인\n",
    "test.info()\n",
    "# 결측치 존재 컬럼 : Age, Fare, Cabin"
   ]
  },
  {
   "cell_type": "code",
   "execution_count": 8,
   "id": "ffa0df7b",
   "metadata": {},
   "outputs": [
    {
     "data": {
      "text/plain": [
       "Pclass        0\n",
       "Name          0\n",
       "Sex           0\n",
       "Age          86\n",
       "SibSp         0\n",
       "Parch         0\n",
       "Ticket        0\n",
       "Fare          1\n",
       "Cabin       327\n",
       "Embarked      0\n",
       "dtype: int64"
      ]
     },
     "execution_count": 8,
     "metadata": {},
     "output_type": "execute_result"
    }
   ],
   "source": [
    "# 판다스 함수 통해서 test 결측치 확인\n",
    "# 데이터 자리에 결측치가 있니? => 데이터.isnull()\n",
    "test.isnull().sum()\n",
    "# 결측치 존재 컬럼 : Age, Fare, Cabin\n",
    "# 결측치(행)를 삭제하기 보다 채우면서 처리해보겠음"
   ]
  },
  {
   "cell_type": "markdown",
   "id": "269982d9",
   "metadata": {},
   "source": [
    "#### train-Embarked 결측치 처리\n",
    " - 승객이 탑승한 항구 이름"
   ]
  },
  {
   "cell_type": "code",
   "execution_count": 9,
   "id": "4263a938",
   "metadata": {},
   "outputs": [
    {
     "data": {
      "text/plain": [
       "S    644\n",
       "C    168\n",
       "Q     77\n",
       "Name: Embarked, dtype: int64"
      ]
     },
     "execution_count": 9,
     "metadata": {},
     "output_type": "execute_result"
    }
   ],
   "source": [
    "# train 데이터 기준으로 Embarked 컬럼 확인\n",
    "train['Embarked'].unique()\n",
    "\n",
    "# 빈도수가 높은 승선항 알파벳으로 결측치를 처리해보자\n",
    "train['Embarked'].value_counts() # S 644 로 채워보자!"
   ]
  },
  {
   "cell_type": "code",
   "execution_count": 10,
   "id": "4dbd4bb9",
   "metadata": {},
   "outputs": [],
   "source": [
    "# test 안보나요?\n",
    "# 탐색용 데이터는 train ,\n",
    "# 모델 학습 : 모델이 학습을 잘하도록 데이터를 셋팅\n",
    "# test 데이터는 모델을 일반화시키는데 도움이 되지 않음\n",
    "# train 데이터가 학습할때 사용되고 모델의 일반화에 도움을 줌"
   ]
  },
  {
   "cell_type": "code",
   "execution_count": 11,
   "id": "88ef070e",
   "metadata": {},
   "outputs": [
    {
     "data": {
      "text/plain": [
       "S    646\n",
       "C    168\n",
       "Q     77\n",
       "Name: Embarked, dtype: int64"
      ]
     },
     "execution_count": 11,
     "metadata": {},
     "output_type": "execute_result"
    }
   ],
   "source": [
    "# Embarked 결측치를 'S' 로 채우기\n",
    "# fillna(채울값)\n",
    "train['Embarked'] = train['Embarked'].fillna('S')\n",
    "train['Embarked'].unique()\n",
    "train['Embarked'].value_counts()"
   ]
  },
  {
   "cell_type": "code",
   "execution_count": 12,
   "id": "0ed43ba3",
   "metadata": {},
   "outputs": [],
   "source": [
    "# 추가) Embarked 컬럼에 결측치가 있던 행의 정보를 확인하고\n",
    "# 비슷한 사람의 데이터가 있다면 그 사람의 승선항 정보를 대체값으로 활용"
   ]
  },
  {
   "cell_type": "markdown",
   "id": "a8c4adbd",
   "metadata": {},
   "source": [
    "#### test - Fare 결측치 처리\n",
    " - 요금 평균, 중앙값 계산 가능\n",
    " - 데이터 분석을 진행하면서 관련이 있을 법한 컬럼을 연관지어서 대체값을 확인해보자"
   ]
  },
  {
   "cell_type": "code",
   "execution_count": 13,
   "id": "3dcf71d0",
   "metadata": {},
   "outputs": [
    {
     "data": {
      "text/plain": [
       "count    891.000000\n",
       "mean      32.204208\n",
       "std       49.693429\n",
       "min        0.000000\n",
       "25%        7.910400\n",
       "50%       14.454200\n",
       "75%       31.000000\n",
       "max      512.329200\n",
       "Name: Fare, dtype: float64"
      ]
     },
     "execution_count": 13,
     "metadata": {},
     "output_type": "execute_result"
    }
   ],
   "source": [
    "# train 기준으로 데이터 탐색\n",
    "# Fare 컬럼 정보 확인 -> 기술통계량\n",
    "train['Fare'].describe()\n",
    "# 요금의 대표값으로 평균보다 중앙이 더 나을 수 있겠음\n"
   ]
  },
  {
   "cell_type": "code",
   "execution_count": 14,
   "id": "1ef1397a",
   "metadata": {},
   "outputs": [
    {
     "name": "stderr",
     "output_type": "stream",
     "text": [
      "C:\\Users\\newny\\AppData\\Local\\Temp\\ipykernel_14772\\43214217.py:7: FutureWarning: The default value of numeric_only in DataFrame.corr is deprecated. In a future version, it will default to False. Select only valid columns or specify the value of numeric_only to silence this warning.\n",
      "  train.corr()['Survived'].abs()\n"
     ]
    },
    {
     "data": {
      "text/plain": [
       "Survived    1.000000\n",
       "Pclass      0.338481\n",
       "Age         0.077221\n",
       "SibSp       0.035322\n",
       "Parch       0.081629\n",
       "Fare        0.257307\n",
       "Name: Survived, dtype: float64"
      ]
     },
     "execution_count": 14,
     "metadata": {},
     "output_type": "execute_result"
    }
   ],
   "source": [
    "# 변수(특성) 간의 상관관계 확인\n",
    "# 상관계수(숫자) : -1 ~ 1\n",
    "# 각 컬럼의 상관 정도를 수치로 표현한 값 : 상관계수\n",
    "# -1, 1에 가까울수록 변수간의 관계성이 있음\n",
    "# 0에 가까울수록 변수간의 관계성이 적음\n",
    "# 생존 사망과 연관이 있는 컬럼 확인해보기\n",
    "train.corr()['Survived'].abs()\n",
    "# Pclass가 생존/사망 연관성이 있을 수 있겠음\n",
    "# 등급에 따라 요금의 중앙값으로 채워주는 것도 의미가 있지 않을까?"
   ]
  },
  {
   "cell_type": "code",
   "execution_count": 15,
   "id": "65446511",
   "metadata": {},
   "outputs": [
    {
     "data": {
      "text/html": [
       "<div>\n",
       "<style scoped>\n",
       "    .dataframe tbody tr th:only-of-type {\n",
       "        vertical-align: middle;\n",
       "    }\n",
       "\n",
       "    .dataframe tbody tr th {\n",
       "        vertical-align: top;\n",
       "    }\n",
       "\n",
       "    .dataframe thead th {\n",
       "        text-align: right;\n",
       "    }\n",
       "</style>\n",
       "<table border=\"1\" class=\"dataframe\">\n",
       "  <thead>\n",
       "    <tr style=\"text-align: right;\">\n",
       "      <th></th>\n",
       "      <th>Fare</th>\n",
       "    </tr>\n",
       "    <tr>\n",
       "      <th>Pclass</th>\n",
       "      <th></th>\n",
       "    </tr>\n",
       "  </thead>\n",
       "  <tbody>\n",
       "    <tr>\n",
       "      <th>1</th>\n",
       "      <td>60.2875</td>\n",
       "    </tr>\n",
       "    <tr>\n",
       "      <th>2</th>\n",
       "      <td>14.2500</td>\n",
       "    </tr>\n",
       "    <tr>\n",
       "      <th>3</th>\n",
       "      <td>8.0500</td>\n",
       "    </tr>\n",
       "  </tbody>\n",
       "</table>\n",
       "</div>"
      ],
      "text/plain": [
       "           Fare\n",
       "Pclass         \n",
       "1       60.2875\n",
       "2       14.2500\n",
       "3        8.0500"
      ]
     },
     "execution_count": 15,
     "metadata": {},
     "output_type": "execute_result"
    }
   ],
   "source": [
    "# 1. Pclass, Fare 두개 컬럼만 인덱싱해보기\n",
    "# 2. Pclass 1,2,3 등급끼리 묶기(그룹화하기)\n",
    "# 3. median() 집계함수 연결\n",
    "train.loc[:,['Pclass', 'Fare']].groupby('Pclass').count()\n",
    "# train.iloc[:,[1,8]].groupby('Pclass')\n",
    "train.loc[:,['Pclass', 'Fare']].groupby('Pclass').median()"
   ]
  },
  {
   "cell_type": "code",
   "execution_count": 16,
   "id": "e1afbbfe",
   "metadata": {},
   "outputs": [
    {
     "data": {
      "text/html": [
       "<div>\n",
       "<style scoped>\n",
       "    .dataframe tbody tr th:only-of-type {\n",
       "        vertical-align: middle;\n",
       "    }\n",
       "\n",
       "    .dataframe tbody tr th {\n",
       "        vertical-align: top;\n",
       "    }\n",
       "\n",
       "    .dataframe thead th {\n",
       "        text-align: right;\n",
       "    }\n",
       "</style>\n",
       "<table border=\"1\" class=\"dataframe\">\n",
       "  <thead>\n",
       "    <tr style=\"text-align: right;\">\n",
       "      <th></th>\n",
       "      <th>Pclass</th>\n",
       "      <th>Name</th>\n",
       "      <th>Sex</th>\n",
       "      <th>Age</th>\n",
       "      <th>SibSp</th>\n",
       "      <th>Parch</th>\n",
       "      <th>Ticket</th>\n",
       "      <th>Fare</th>\n",
       "      <th>Cabin</th>\n",
       "      <th>Embarked</th>\n",
       "    </tr>\n",
       "    <tr>\n",
       "      <th>PassengerId</th>\n",
       "      <th></th>\n",
       "      <th></th>\n",
       "      <th></th>\n",
       "      <th></th>\n",
       "      <th></th>\n",
       "      <th></th>\n",
       "      <th></th>\n",
       "      <th></th>\n",
       "      <th></th>\n",
       "      <th></th>\n",
       "    </tr>\n",
       "  </thead>\n",
       "  <tbody>\n",
       "  </tbody>\n",
       "</table>\n",
       "</div>"
      ],
      "text/plain": [
       "Empty DataFrame\n",
       "Columns: [Pclass, Name, Sex, Age, SibSp, Parch, Ticket, Fare, Cabin, Embarked]\n",
       "Index: []"
      ]
     },
     "execution_count": 16,
     "metadata": {},
     "output_type": "execute_result"
    }
   ],
   "source": [
    "# test - Fare컬럼에 결측치가 있는 행 정보 출력하기\n",
    "test[test['Fare'].isnull()]\n",
    "\n",
    "# fillna() 를 활용해서 Fare 결측치 채워보기\n",
    "# 3등급 -> 8.0500\n",
    "# 1. test Fare 컬럼 접근\n",
    "# 2. fillna() 사용해서 8.0500으로 채워보기\n",
    "# 2번까지 했을 때 결측치가 없으면 test Fare 컬럼에 다시 초기화\n",
    "test['Fare'] = test['Fare'].fillna(8.0500)\n",
    "test[test['Fare'].isnull()] # 결측치 처리 완료 !"
   ]
  },
  {
   "cell_type": "markdown",
   "id": "3dac4c4e",
   "metadata": {},
   "source": [
    "#### Age 컬럼 결측치 채우기 \n",
    " - 단순 기술 통계로만 채우지 않고, 다른 컬럼과의 상관관계를 이용해서 결측치를 채워보는 방향으로 진행해보자\n",
    " - Pclass, Sex 과 연관지어서 나이 통계 확인해보자"
   ]
  },
  {
   "cell_type": "code",
   "execution_count": 17,
   "id": "a3f6d50e",
   "metadata": {},
   "outputs": [
    {
     "data": {
      "text/plain": [
       "count    714.000000\n",
       "mean      29.699118\n",
       "std       14.526497\n",
       "min        0.420000\n",
       "25%       20.125000\n",
       "50%       28.000000\n",
       "75%       38.000000\n",
       "max       80.000000\n",
       "Name: Age, dtype: float64"
      ]
     },
     "execution_count": 17,
     "metadata": {},
     "output_type": "execute_result"
    }
   ],
   "source": [
    "# train Age 컬럼 접근해서 기술 통계량 확인하기\n",
    "train['Age'].describe()\n",
    "\n",
    "# 평균, 중앙값의 큰 차이가 없음\n",
    "# 평균치로 데이터를 처리해보자 "
   ]
  },
  {
   "cell_type": "code",
   "execution_count": 18,
   "id": "6263f572",
   "metadata": {},
   "outputs": [
    {
     "data": {
      "text/html": [
       "<div>\n",
       "<style scoped>\n",
       "    .dataframe tbody tr th:only-of-type {\n",
       "        vertical-align: middle;\n",
       "    }\n",
       "\n",
       "    .dataframe tbody tr th {\n",
       "        vertical-align: top;\n",
       "    }\n",
       "\n",
       "    .dataframe thead th {\n",
       "        text-align: right;\n",
       "    }\n",
       "</style>\n",
       "<table border=\"1\" class=\"dataframe\">\n",
       "  <thead>\n",
       "    <tr style=\"text-align: right;\">\n",
       "      <th></th>\n",
       "      <th></th>\n",
       "      <th>Age</th>\n",
       "    </tr>\n",
       "    <tr>\n",
       "      <th>Pclass</th>\n",
       "      <th>Sex</th>\n",
       "      <th></th>\n",
       "    </tr>\n",
       "  </thead>\n",
       "  <tbody>\n",
       "    <tr>\n",
       "      <th rowspan=\"2\" valign=\"top\">1</th>\n",
       "      <th>female</th>\n",
       "      <td>34.611765</td>\n",
       "    </tr>\n",
       "    <tr>\n",
       "      <th>male</th>\n",
       "      <td>41.281386</td>\n",
       "    </tr>\n",
       "    <tr>\n",
       "      <th rowspan=\"2\" valign=\"top\">2</th>\n",
       "      <th>female</th>\n",
       "      <td>28.722973</td>\n",
       "    </tr>\n",
       "    <tr>\n",
       "      <th>male</th>\n",
       "      <td>30.740707</td>\n",
       "    </tr>\n",
       "    <tr>\n",
       "      <th rowspan=\"2\" valign=\"top\">3</th>\n",
       "      <th>female</th>\n",
       "      <td>21.750000</td>\n",
       "    </tr>\n",
       "    <tr>\n",
       "      <th>male</th>\n",
       "      <td>26.507589</td>\n",
       "    </tr>\n",
       "  </tbody>\n",
       "</table>\n",
       "</div>"
      ],
      "text/plain": [
       "                     Age\n",
       "Pclass Sex              \n",
       "1      female  34.611765\n",
       "       male    41.281386\n",
       "2      female  28.722973\n",
       "       male    30.740707\n",
       "3      female  21.750000\n",
       "       male    26.507589"
      ]
     },
     "execution_count": 18,
     "metadata": {},
     "output_type": "execute_result"
    }
   ],
   "source": [
    "# 1 - 여성 - 나이 평균\n",
    "# 1 - 남성 - 나이 평균\n",
    "# 2 - 여성 - 나이 평균\n",
    "# 2 - 남성 - 나이 평균\n",
    "# 3 - 여성 - 나이 평균\n",
    "# 3 - 남성 - 나이 평균\n",
    "# 3개 - Pclass,age, Sex\n",
    "\n",
    "gb1 = train[['Pclass', 'Age', 'Sex']].groupby(['Pclass', 'Sex']).mean()\n",
    "gb1"
   ]
  },
  {
   "cell_type": "code",
   "execution_count": 19,
   "id": "134d8f09",
   "metadata": {},
   "outputs": [
    {
     "data": {
      "text/plain": [
       "Age    41.281386\n",
       "Name: (1, male), dtype: float64"
      ]
     },
     "execution_count": 19,
     "metadata": {},
     "output_type": "execute_result"
    }
   ],
   "source": [
    "# gb1 \n",
    "# 인덱스가 2개 => 멀티인덱스(중복인덱스) \n",
    "# 3, female 평균나이 데이터 접근해보기\n",
    "gb1.loc[3,'female']\n",
    "\n",
    "# 1, male 평균 나이 접근해보기\n",
    "\n",
    "gb1.loc[(1,'male')]\n",
    "# gb1.loc[(승객의 등급, 성별)]"
   ]
  },
  {
   "cell_type": "code",
   "execution_count": 20,
   "id": "c041c4c2",
   "metadata": {},
   "outputs": [
    {
     "data": {
      "text/plain": [
       "True"
      ]
     },
     "execution_count": 20,
     "metadata": {},
     "output_type": "execute_result"
    }
   ],
   "source": [
    "# 추가적으로 이해하는 코드\n",
    "# numpy 널값 확인하는 함수\n",
    "# Nan\n",
    "# np.nan 결측치 표현\n",
    "a = np.array([1,2, np.nan])\n",
    "np.isnan(a[2])"
   ]
  },
  {
   "cell_type": "code",
   "execution_count": 21,
   "id": "23ceda9b",
   "metadata": {},
   "outputs": [
    {
     "name": "stdout",
     "output_type": "stream",
     "text": [
      "<class 'pandas.core.frame.DataFrame'>\n",
      "Int64Index: 891 entries, 1 to 891\n",
      "Data columns (total 11 columns):\n",
      " #   Column    Non-Null Count  Dtype  \n",
      "---  ------    --------------  -----  \n",
      " 0   Survived  891 non-null    int64  \n",
      " 1   Pclass    891 non-null    int64  \n",
      " 2   Name      891 non-null    object \n",
      " 3   Sex       891 non-null    object \n",
      " 4   Age       891 non-null    int64  \n",
      " 5   SibSp     891 non-null    int64  \n",
      " 6   Parch     891 non-null    int64  \n",
      " 7   Ticket    891 non-null    object \n",
      " 8   Fare      891 non-null    float64\n",
      " 9   Cabin     204 non-null    object \n",
      " 10  Embarked  891 non-null    object \n",
      "dtypes: float64(1), int64(5), object(5)\n",
      "memory usage: 83.5+ KB\n"
     ]
    }
   ],
   "source": [
    "# train, test 결측치\n",
    "# train Age 컬럼의 결측치가 있는 해\n",
    "# 1. Age 접근\n",
    "# 2. null 확인\n",
    "# 3. 불리언 인덱싱 적용 -> 행정보 출력됨\n",
    "train[train['Age'].isnull()]\n",
    "\n",
    "# 복잡한 처리를 해줄 수 있는 도구가 있나?\n",
    "# 사용자 정의 함수 생성: Pclass, Sex 을 확인해서 gb1에 있는 평균나이로 대체\n",
    "# 판다스 데이터랑 어떻게 연결? apply()\n",
    "def fill_age(data) :\n",
    "    # 만약 나이가 결측치라면 gb1에서 대체할 값을 가져오고 반환\n",
    "    if np.isnan(data['Age']):\n",
    "        gb1_age = gb1.loc[(data['Pclass'], data['Sex'])]\n",
    "        return gb1_age\n",
    "    # 결측치가 x 원래 나이 값을 반환\n",
    "    else :\n",
    "        return data['Age']\n",
    "    \n",
    "train['Age'] = train.apply(fill_age, axis = 1).astype('int64') # axis = 1 한사람의 대한 정보가 처리단위로 연결\n",
    "train.info()"
   ]
  },
  {
   "cell_type": "code",
   "execution_count": 22,
   "id": "5b3d209c",
   "metadata": {},
   "outputs": [
    {
     "name": "stdout",
     "output_type": "stream",
     "text": [
      "<class 'pandas.core.frame.DataFrame'>\n",
      "Int64Index: 418 entries, 892 to 1309\n",
      "Data columns (total 10 columns):\n",
      " #   Column    Non-Null Count  Dtype  \n",
      "---  ------    --------------  -----  \n",
      " 0   Pclass    418 non-null    int64  \n",
      " 1   Name      418 non-null    object \n",
      " 2   Sex       418 non-null    object \n",
      " 3   Age       418 non-null    int64  \n",
      " 4   SibSp     418 non-null    int64  \n",
      " 5   Parch     418 non-null    int64  \n",
      " 6   Ticket    418 non-null    object \n",
      " 7   Fare      418 non-null    float64\n",
      " 8   Cabin     91 non-null     object \n",
      " 9   Embarked  418 non-null    object \n",
      "dtypes: float64(1), int64(4), object(5)\n",
      "memory usage: 35.9+ KB\n"
     ]
    }
   ],
   "source": [
    "# test Age 컬럼 결측치 처리하기\n",
    "# gb1 - train\n",
    "# test 결측치를 채울때 train(모델의 일반화 도움을 주는) 데이터를 기준으로 채워줌\n",
    "test['Age'] = test.apply(fill_age, axis = 1).astype('int64')\n",
    "test['Age'].isnull().sum() # 결측칯 처리 완료 확인 !\n",
    "test.info()"
   ]
  },
  {
   "cell_type": "markdown",
   "id": "0e734640",
   "metadata": {},
   "source": [
    "#### Cabin 컬럼 결측치 채우기"
   ]
  },
  {
   "cell_type": "code",
   "execution_count": 23,
   "id": "6f7a33c0",
   "metadata": {},
   "outputs": [
    {
     "data": {
      "text/plain": [
       "array([nan, 'C85', 'C123', 'E46', 'G6', 'C103', 'D56', 'A6',\n",
       "       'C23 C25 C27', 'B78', 'D33', 'B30', 'C52', 'B28', 'C83', 'F33',\n",
       "       'F G73', 'E31', 'A5', 'D10 D12', 'D26', 'C110', 'B58 B60', 'E101',\n",
       "       'F E69', 'D47', 'B86', 'F2', 'C2', 'E33', 'B19', 'A7', 'C49', 'F4',\n",
       "       'A32', 'B4', 'B80', 'A31', 'D36', 'D15', 'C93', 'C78', 'D35',\n",
       "       'C87', 'B77', 'E67', 'B94', 'C125', 'C99', 'C118', 'D7', 'A19',\n",
       "       'B49', 'D', 'C22 C26', 'C106', 'C65', 'E36', 'C54',\n",
       "       'B57 B59 B63 B66', 'C7', 'E34', 'C32', 'B18', 'C124', 'C91', 'E40',\n",
       "       'T', 'C128', 'D37', 'B35', 'E50', 'C82', 'B96 B98', 'E10', 'E44',\n",
       "       'A34', 'C104', 'C111', 'C92', 'E38', 'D21', 'E12', 'E63', 'A14',\n",
       "       'B37', 'C30', 'D20', 'B79', 'E25', 'D46', 'B73', 'C95', 'B38',\n",
       "       'B39', 'B22', 'C86', 'C70', 'A16', 'C101', 'C68', 'A10', 'E68',\n",
       "       'B41', 'A20', 'D19', 'D50', 'D9', 'A23', 'B50', 'A26', 'D48',\n",
       "       'E58', 'C126', 'B71', 'B51 B53 B55', 'D49', 'B5', 'B20', 'F G63',\n",
       "       'C62 C64', 'E24', 'C90', 'C45', 'E8', 'B101', 'D45', 'C46', 'D30',\n",
       "       'E121', 'D11', 'E77', 'F38', 'B3', 'D6', 'B82 B84', 'D17', 'A36',\n",
       "       'B102', 'B69', 'E49', 'C47', 'D28', 'E17', 'A24', 'C50', 'B42',\n",
       "       'C148'], dtype=object)"
      ]
     },
     "execution_count": 23,
     "metadata": {},
     "output_type": "execute_result"
    }
   ],
   "source": [
    "# train Cabin 컬럼 접근해보기\n",
    "train['Cabin'].unique()"
   ]
  },
  {
   "cell_type": "code",
   "execution_count": 24,
   "id": "f4a99308",
   "metadata": {},
   "outputs": [
    {
     "name": "stdout",
     "output_type": "stream",
     "text": [
      "<class 'pandas.core.frame.DataFrame'>\n",
      "Int64Index: 891 entries, 1 to 891\n",
      "Data columns (total 11 columns):\n",
      " #   Column    Non-Null Count  Dtype  \n",
      "---  ------    --------------  -----  \n",
      " 0   Survived  891 non-null    int64  \n",
      " 1   Pclass    891 non-null    int64  \n",
      " 2   Name      891 non-null    object \n",
      " 3   Sex       891 non-null    object \n",
      " 4   Age       891 non-null    int64  \n",
      " 5   SibSp     891 non-null    int64  \n",
      " 6   Parch     891 non-null    int64  \n",
      " 7   Ticket    891 non-null    object \n",
      " 8   Fare      891 non-null    float64\n",
      " 9   Cabin     891 non-null    object \n",
      " 10  Embarked  891 non-null    object \n",
      "dtypes: float64(1), int64(5), object(5)\n",
      "memory usage: 83.5+ KB\n",
      "<class 'pandas.core.frame.DataFrame'>\n",
      "Int64Index: 418 entries, 892 to 1309\n",
      "Data columns (total 10 columns):\n",
      " #   Column    Non-Null Count  Dtype  \n",
      "---  ------    --------------  -----  \n",
      " 0   Pclass    418 non-null    int64  \n",
      " 1   Name      418 non-null    object \n",
      " 2   Sex       418 non-null    object \n",
      " 3   Age       418 non-null    int64  \n",
      " 4   SibSp     418 non-null    int64  \n",
      " 5   Parch     418 non-null    int64  \n",
      " 6   Ticket    418 non-null    object \n",
      " 7   Fare      418 non-null    float64\n",
      " 8   Cabin     418 non-null    object \n",
      " 9   Embarked  418 non-null    object \n",
      "dtypes: float64(1), int64(4), object(5)\n",
      "memory usage: 35.9+ KB\n"
     ]
    }
   ],
   "source": [
    "# 'M' 임의로 Cabin 결측치를 채워보기\n",
    "# train, test\n",
    "# fillna()\n",
    "train['Cabin'].fillna('M', inplace = True)\n",
    "test['Cabin'].fillna('M', inplace = True)\n",
    "# 확인\n",
    "train.info()\n",
    "test.info()"
   ]
  },
  {
   "cell_type": "code",
   "execution_count": 25,
   "id": "293da52f",
   "metadata": {},
   "outputs": [],
   "source": [
    "# train Cabin 접근해서 살펴보기\n",
    "train['Cabin'][2][0]\n",
    "# 판다스.str 해당 컬럼에 문자열 자료에 접근하는 키워드\n",
    "train['Deck'] = train['Cabin'].str[0] # Deck 이라는 새로운 컬럼명 생성하여 저장\n",
    "# test 도 실행해보기\n",
    "test['Deck'] = test['Cabin'].str[0]"
   ]
  },
  {
   "cell_type": "code",
   "execution_count": 26,
   "id": "f3f09abd",
   "metadata": {},
   "outputs": [
    {
     "name": "stdout",
     "output_type": "stream",
     "text": [
      "<class 'pandas.core.frame.DataFrame'>\n",
      "Int64Index: 891 entries, 1 to 891\n",
      "Data columns (total 11 columns):\n",
      " #   Column    Non-Null Count  Dtype  \n",
      "---  ------    --------------  -----  \n",
      " 0   Survived  891 non-null    int64  \n",
      " 1   Pclass    891 non-null    int64  \n",
      " 2   Name      891 non-null    object \n",
      " 3   Sex       891 non-null    object \n",
      " 4   Age       891 non-null    int64  \n",
      " 5   SibSp     891 non-null    int64  \n",
      " 6   Parch     891 non-null    int64  \n",
      " 7   Ticket    891 non-null    object \n",
      " 8   Fare      891 non-null    float64\n",
      " 9   Embarked  891 non-null    object \n",
      " 10  Deck      891 non-null    object \n",
      "dtypes: float64(1), int64(5), object(5)\n",
      "memory usage: 115.8+ KB\n",
      "<class 'pandas.core.frame.DataFrame'>\n",
      "Int64Index: 418 entries, 892 to 1309\n",
      "Data columns (total 10 columns):\n",
      " #   Column    Non-Null Count  Dtype  \n",
      "---  ------    --------------  -----  \n",
      " 0   Pclass    418 non-null    int64  \n",
      " 1   Name      418 non-null    object \n",
      " 2   Sex       418 non-null    object \n",
      " 3   Age       418 non-null    int64  \n",
      " 4   SibSp     418 non-null    int64  \n",
      " 5   Parch     418 non-null    int64  \n",
      " 6   Ticket    418 non-null    object \n",
      " 7   Fare      418 non-null    float64\n",
      " 8   Embarked  418 non-null    object \n",
      " 9   Deck      418 non-null    object \n",
      "dtypes: float64(1), int64(4), object(5)\n",
      "memory usage: 35.9+ KB\n"
     ]
    }
   ],
   "source": [
    "# Cabin 컬럼 삭제하기\n",
    "# train, test\n",
    "train = train.drop('Cabin', axis = 1)\n",
    "# info() 확인\n",
    "train.info()\n",
    "test = test.drop('Cabin', axis = 1)\n",
    "test.info()"
   ]
  },
  {
   "cell_type": "code",
   "execution_count": 27,
   "id": "dbb4806b",
   "metadata": {},
   "outputs": [
    {
     "name": "stdout",
     "output_type": "stream",
     "text": [
      "<class 'pandas.core.frame.DataFrame'>\n",
      "Int64Index: 891 entries, 1 to 891\n",
      "Data columns (total 11 columns):\n",
      " #   Column    Non-Null Count  Dtype  \n",
      "---  ------    --------------  -----  \n",
      " 0   Survived  891 non-null    int64  \n",
      " 1   Pclass    891 non-null    int64  \n",
      " 2   Name      891 non-null    object \n",
      " 3   Sex       891 non-null    object \n",
      " 4   Age       891 non-null    int64  \n",
      " 5   SibSp     891 non-null    int64  \n",
      " 6   Parch     891 non-null    int64  \n",
      " 7   Ticket    891 non-null    object \n",
      " 8   Fare      891 non-null    float64\n",
      " 9   Embarked  891 non-null    object \n",
      " 10  Deck      891 non-null    object \n",
      "dtypes: float64(1), int64(5), object(5)\n",
      "memory usage: 115.8+ KB\n"
     ]
    }
   ],
   "source": [
    "train.info()"
   ]
  },
  {
   "cell_type": "markdown",
   "id": "90525143",
   "metadata": {},
   "source": [
    "#### 데이터 탐색\n",
    " - train 데이터를 이용해서 탐색 진행함\n",
    " - test를 탐색하는 것은 모델의 일반화에 도움 안됨\n",
    " - Deck 컬럼이 생존/사망과 얼마나 연관이 있는지 확인해보기"
   ]
  },
  {
   "cell_type": "code",
   "execution_count": 28,
   "id": "eaa32808",
   "metadata": {},
   "outputs": [
    {
     "data": {
      "image/png": "[encoded data removed]",
      "text/plain": [
       "<Figure size 500x300 with 1 Axes>"
      ]
     },
     "metadata": {},
     "output_type": "display_data"
    }
   ],
   "source": [
    "# x - Deck, y- Survived\n",
    "plt.figure(figsize = (5, 3))\n",
    "sns.countplot(data = train, x = 'Deck', hue = 'Survived')\n",
    "plt.show()"
   ]
  },
  {
   "cell_type": "markdown",
   "id": "aab927aa",
   "metadata": {},
   "source": [
    "- M에서 상대적으로 사람이 많이 사망했음\n",
    "- Pclass와 Survived 컬럼의 관계확인(생존/사망 연관)"
   ]
  },
  {
   "cell_type": "code",
   "execution_count": 29,
   "id": "db212fff",
   "metadata": {},
   "outputs": [
    {
     "data": {
      "image/png": "[encoded data removed]",
      "text/plain": [
       "<Figure size 500x300 with 1 Axes>"
      ]
     },
     "metadata": {},
     "output_type": "display_data"
    }
   ],
   "source": [
    "plt.figure(figsize = (5, 3)) # 그래프 사이즈 설정\n",
    "sns.countplot(data = train, x = 'Pclass', hue = 'Survived')\n",
    "plt.show()"
   ]
  },
  {
   "cell_type": "markdown",
   "id": "69f033ba",
   "metadata": {},
   "source": [
    "- 승객의 등급이 높을 수록 비교적 생존율 높음\n",
    "- 3등급의 승객들은 많이 사망함\n",
    "- Deck과 Pclass 시각화"
   ]
  },
  {
   "cell_type": "code",
   "execution_count": 30,
   "id": "bbe72431",
   "metadata": {},
   "outputs": [
    {
     "data": {
      "text/plain": [
       "<Axes: xlabel='Deck', ylabel='count'>"
      ]
     },
     "execution_count": 30,
     "metadata": {},
     "output_type": "execute_result"
    },
    {
     "data": {
      "image/png": "[encoded data removed]",
      "text/plain": [
       "<Figure size 500x300 with 1 Axes>"
      ]
     },
     "metadata": {},
     "output_type": "display_data"
    }
   ],
   "source": [
    "plt.figure(figsize = (5, 3))\n",
    "sns.countplot(data = train, x = 'Deck', hue = 'Pclass')"
   ]
  },
  {
   "cell_type": "markdown",
   "id": "0f3e9cee",
   "metadata": {},
   "source": [
    "- M(결측치)안에는 3등급의 사람들이 많아서 사망률이 높게 출력\n",
    "- Sex과 Survived 관계 확인해보기"
   ]
  },
  {
   "cell_type": "code",
   "execution_count": 31,
   "id": "d640b919",
   "metadata": {},
   "outputs": [
    {
     "data": {
      "image/png": "[encoded data removed]",
      "text/plain": [
       "<Figure size 500x300 with 1 Axes>"
      ]
     },
     "metadata": {},
     "output_type": "display_data"
    }
   ],
   "source": [
    "plt.figure(figsize = (5, 3))\n",
    "sns.countplot(data = train, x = 'Sex', hue = 'Survived')\n",
    "plt.show()"
   ]
  },
  {
   "cell_type": "markdown",
   "id": "dad62543",
   "metadata": {},
   "source": [
    "- male 사망율이 높음, female 비교적 생존율이 높음\n",
    "- Embarked과 Survived 관계 확인해보기"
   ]
  },
  {
   "cell_type": "code",
   "execution_count": 32,
   "id": "bb61558f",
   "metadata": {},
   "outputs": [
    {
     "data": {
      "image/png": "[encoded data removed]",
      "text/plain": [
       "<Figure size 500x300 with 1 Axes>"
      ]
     },
     "metadata": {},
     "output_type": "display_data"
    }
   ],
   "source": [
    "plt.figure(figsize = (5, 3))\n",
    "sns.countplot(data = train, x = 'Embarked', hue = 'Survived')\n",
    "plt.show()"
   ]
  },
  {
   "cell_type": "code",
   "execution_count": 33,
   "id": "c3e1c95e",
   "metadata": {},
   "outputs": [
    {
     "data": {
      "image/png": "[encoded data removed]",
      "text/plain": [
       "<Figure size 500x300 with 1 Axes>"
      ]
     },
     "metadata": {},
     "output_type": "display_data"
    }
   ],
   "source": [
    "# Embarked 와 Pclass 관계\n",
    "plt.figure(figsize = (5, 3))\n",
    "sns.countplot(data = train, x = 'Embarked', hue = 'Pclass')\n",
    "plt.show()"
   ]
  },
  {
   "cell_type": "code",
   "execution_count": 34,
   "id": "112ec06e",
   "metadata": {},
   "outputs": [],
   "source": [
    "# Embared와 Pclass 관계 확인"
   ]
  },
  {
   "cell_type": "markdown",
   "id": "ac74fde5",
   "metadata": {},
   "source": [
    "- Age에 따른 생존/사망 시각화\n",
    " - 데이터의 분포를 확인할 때 여러가지 시각화 방법을 활용하는데, 그 중에 하나인 바이올린 플롯을 활용"
   ]
  },
  {
   "cell_type": "code",
   "execution_count": 35,
   "id": "d4b6e419",
   "metadata": {},
   "outputs": [
    {
     "data": {
      "image/png": "[encoded data removed]",
      "text/plain": [
       "<Figure size 1500x500 with 1 Axes>"
      ]
     },
     "metadata": {},
     "output_type": "display_data"
    }
   ],
   "source": [
    "plt.figure(figsize = (15,5)) # x 15, y 5\n",
    "sns.violinplot(data = train, x = 'Sex', y = 'Age', hue = 'Survived', split = True)\n",
    "plt.show()"
   ]
  },
  {
   "cell_type": "markdown",
   "id": "f3cb1fb8",
   "metadata": {},
   "source": [
    "- 20~40대 사이에 사망이 많았음\n",
    "- 어린아이 중에서는 남자아이가 여자아이에 비해 많이 생존했음\n",
    "- Fare에 다른 생존/사망 시각화"
   ]
  },
  {
   "cell_type": "code",
   "execution_count": 36,
   "id": "8c1136e2",
   "metadata": {},
   "outputs": [
    {
     "data": {
      "image/png": "[encoded data removed]",
      "text/plain": [
       "<Figure size 1500x500 with 1 Axes>"
      ]
     },
     "metadata": {},
     "output_type": "display_data"
    }
   ],
   "source": [
    "plt.figure(figsize = (15,5)) # x 15, y 5\n",
    "sns.violinplot(data = train, x = 'Sex', y = 'Fare', hue = 'Survived', split = True)\n",
    "\n",
    "# 0 ~ 300 y 축 범위 제한\n",
    "plt.ylim(0,300)\n",
    "plt.show()"
   ]
  },
  {
   "cell_type": "code",
   "execution_count": 37,
   "id": "ae30bbba",
   "metadata": {},
   "outputs": [],
   "source": [
    "# Fare 기술 통계량 확인\n",
    "# train['Fare'].describe()"
   ]
  },
  {
   "cell_type": "markdown",
   "id": "adcb1474",
   "metadata": {},
   "source": [
    "- 요금이 싼사람은 상대적으로 많이 사망함"
   ]
  },
  {
   "cell_type": "code",
   "execution_count": 38,
   "id": "4802dfa6",
   "metadata": {},
   "outputs": [
    {
     "data": {
      "text/plain": [
       "Index(['Survived', 'Pclass', 'Name', 'Sex', 'Age', 'SibSp', 'Parch', 'Ticket',\n",
       "       'Fare', 'Embarked', 'Deck'],\n",
       "      dtype='object')"
      ]
     },
     "execution_count": 38,
     "metadata": {},
     "output_type": "execute_result"
    }
   ],
   "source": [
    "# 컬럼명 확인\n",
    "train.columns"
   ]
  },
  {
   "cell_type": "markdown",
   "id": "086ea382",
   "metadata": {},
   "source": [
    "#### 가족의 수 컬럼 생성\n",
    " - 기존을 가지고 새로운 컬럼을 생성(특성공학 분야중 1)\n",
    " - 가족의 수 : SibSp(형제자매, 배우자) + Parch(부모, 자식) + 1(자신)\n",
    " - train, test 두개 모두 컬럼 생성 진행"
   ]
  },
  {
   "cell_type": "code",
   "execution_count": 39,
   "id": "35ffc89a",
   "metadata": {},
   "outputs": [
    {
     "data": {
      "text/plain": [
       "PassengerId\n",
       "1      2\n",
       "2      2\n",
       "3      1\n",
       "4      2\n",
       "5      1\n",
       "      ..\n",
       "887    1\n",
       "888    1\n",
       "889    4\n",
       "890    1\n",
       "891    1\n",
       "Name: Family_Size, Length: 891, dtype: int64"
      ]
     },
     "execution_count": 39,
     "metadata": {},
     "output_type": "execute_result"
    }
   ],
   "source": [
    "# SibSp + Parch + 1 => Family_Size 컬럼 추가 \n",
    "# train, test\n",
    "train['Family_Size'] = train['SibSp'] + train['Parch'] + 1\n",
    "train['Family_Size']"
   ]
  },
  {
   "cell_type": "code",
   "execution_count": 40,
   "id": "a69d92a2",
   "metadata": {},
   "outputs": [
    {
     "data": {
      "text/plain": [
       "PassengerId\n",
       "892     1\n",
       "893     2\n",
       "894     1\n",
       "895     1\n",
       "896     3\n",
       "       ..\n",
       "1305    1\n",
       "1306    1\n",
       "1307    1\n",
       "1308    1\n",
       "1309    3\n",
       "Name: Family_Size, Length: 418, dtype: int64"
      ]
     },
     "execution_count": 40,
     "metadata": {},
     "output_type": "execute_result"
    }
   ],
   "source": [
    "# test 에 Family_Size 컬럼 생성\n",
    "test['Family_Size'] = test['SibSp'] + test['Parch'] + 1\n",
    "test['Family_Size']"
   ]
  },
  {
   "cell_type": "code",
   "execution_count": 41,
   "id": "e5fcf2cc",
   "metadata": {},
   "outputs": [
    {
     "data": {
      "image/png": "[encoded data removed]",
      "text/plain": [
       "<Figure size 640x480 with 1 Axes>"
      ]
     },
     "metadata": {},
     "output_type": "display_data"
    }
   ],
   "source": [
    "# 가족의 수 컬럼 이용해서 생존/사망 시각화\n",
    "sns.countplot(data = train, x = 'Family_Size', hue = 'Survived')\n",
    "plt.show()"
   ]
  },
  {
   "cell_type": "markdown",
   "id": "abbdea34",
   "metadata": {},
   "source": [
    "- 1명 일때는 사망 비율이 높고, 2~4일때는 생존 비율이 높고, 5명 이상이면 사망 비율이 높음\n",
    "- 사소한 관찰의 오류를 줄이기 위해서 범주를 줄여보자(binning)"
   ]
  },
  {
   "cell_type": "code",
   "execution_count": 42,
   "id": "d1d4507b",
   "metadata": {},
   "outputs": [
    {
     "data": {
      "text/plain": [
       "PassengerId\n",
       "1      Small\n",
       "2      Small\n",
       "3      Alone\n",
       "4      Small\n",
       "5      Alone\n",
       "       ...  \n",
       "887    Alone\n",
       "888    Alone\n",
       "889    Small\n",
       "890    Alone\n",
       "891    Alone\n",
       "Name: Family_Group, Length: 891, dtype: category\n",
       "Categories (3, object): ['Alone' < 'Small' < 'Large']"
      ]
     },
     "execution_count": 42,
     "metadata": {},
     "output_type": "execute_result"
    }
   ],
   "source": [
    "# 가족의 수 1이면 Alone, 2~4명이면 Small, 5명이상이면 Large\n",
    "# train, test 적용\n",
    "# 연속적인 수치값을 범주화(카테고리화) 사용하는 pandas 함수 : pd.cut()\n",
    "user_bins = [0,1,4,11] # 범위의 시작값은 포함되지 x\n",
    "user_labels = ['Alone', 'Small', 'Large']\n",
    "train['Family_Group'] = pd.cut(train['Family_Size'],\n",
    "                               bins = user_bins, labels = user_labels)\n",
    "test['Family_Group'] = pd.cut(test['Family_Size'],\n",
    "                               bins = user_bins, labels = user_labels)\n",
    "train['Family_Group']"
   ]
  },
  {
   "cell_type": "code",
   "execution_count": 43,
   "id": "53880073",
   "metadata": {},
   "outputs": [
    {
     "data": {
      "image/png": "[encoded data removed]",
      "text/plain": [
       "<Figure size 640x480 with 1 Axes>"
      ]
     },
     "metadata": {},
     "output_type": "display_data"
    }
   ],
   "source": [
    "# 가족의 수 컬럼 이용해서 생존/사망 시각화\n",
    "sns.countplot(data = train, x = 'Family_Group', hue = 'Survived')\n",
    "plt.show()"
   ]
  },
  {
   "cell_type": "code",
   "execution_count": 44,
   "id": "b106819b",
   "metadata": {},
   "outputs": [
    {
     "data": {
      "text/html": [
       "<div>\n",
       "<style scoped>\n",
       "    .dataframe tbody tr th:only-of-type {\n",
       "        vertical-align: middle;\n",
       "    }\n",
       "\n",
       "    .dataframe tbody tr th {\n",
       "        vertical-align: top;\n",
       "    }\n",
       "\n",
       "    .dataframe thead th {\n",
       "        text-align: right;\n",
       "    }\n",
       "</style>\n",
       "<table border=\"1\" class=\"dataframe\">\n",
       "  <thead>\n",
       "    <tr style=\"text-align: right;\">\n",
       "      <th></th>\n",
       "      <th>Survived</th>\n",
       "      <th>Pclass</th>\n",
       "      <th>Name</th>\n",
       "      <th>Sex</th>\n",
       "      <th>Age</th>\n",
       "      <th>SibSp</th>\n",
       "      <th>Parch</th>\n",
       "      <th>Ticket</th>\n",
       "      <th>Fare</th>\n",
       "      <th>Embarked</th>\n",
       "      <th>Deck</th>\n",
       "      <th>Family_Size</th>\n",
       "      <th>Family_Group</th>\n",
       "    </tr>\n",
       "    <tr>\n",
       "      <th>PassengerId</th>\n",
       "      <th></th>\n",
       "      <th></th>\n",
       "      <th></th>\n",
       "      <th></th>\n",
       "      <th></th>\n",
       "      <th></th>\n",
       "      <th></th>\n",
       "      <th></th>\n",
       "      <th></th>\n",
       "      <th></th>\n",
       "      <th></th>\n",
       "      <th></th>\n",
       "      <th></th>\n",
       "    </tr>\n",
       "  </thead>\n",
       "  <tbody>\n",
       "    <tr>\n",
       "      <th>1</th>\n",
       "      <td>0</td>\n",
       "      <td>3</td>\n",
       "      <td>Braund, Mr. Owen Harris</td>\n",
       "      <td>male</td>\n",
       "      <td>22</td>\n",
       "      <td>1</td>\n",
       "      <td>0</td>\n",
       "      <td>A/5 21171</td>\n",
       "      <td>7.2500</td>\n",
       "      <td>S</td>\n",
       "      <td>M</td>\n",
       "      <td>2</td>\n",
       "      <td>Small</td>\n",
       "    </tr>\n",
       "    <tr>\n",
       "      <th>2</th>\n",
       "      <td>1</td>\n",
       "      <td>1</td>\n",
       "      <td>Cumings, Mrs. John Bradley (Florence Briggs Th...</td>\n",
       "      <td>female</td>\n",
       "      <td>38</td>\n",
       "      <td>1</td>\n",
       "      <td>0</td>\n",
       "      <td>PC 17599</td>\n",
       "      <td>71.2833</td>\n",
       "      <td>C</td>\n",
       "      <td>C</td>\n",
       "      <td>2</td>\n",
       "      <td>Small</td>\n",
       "    </tr>\n",
       "    <tr>\n",
       "      <th>3</th>\n",
       "      <td>1</td>\n",
       "      <td>3</td>\n",
       "      <td>Heikkinen, Miss. Laina</td>\n",
       "      <td>female</td>\n",
       "      <td>26</td>\n",
       "      <td>0</td>\n",
       "      <td>0</td>\n",
       "      <td>STON/O2. 3101282</td>\n",
       "      <td>7.9250</td>\n",
       "      <td>S</td>\n",
       "      <td>M</td>\n",
       "      <td>1</td>\n",
       "      <td>Alone</td>\n",
       "    </tr>\n",
       "    <tr>\n",
       "      <th>4</th>\n",
       "      <td>1</td>\n",
       "      <td>1</td>\n",
       "      <td>Futrelle, Mrs. Jacques Heath (Lily May Peel)</td>\n",
       "      <td>female</td>\n",
       "      <td>35</td>\n",
       "      <td>1</td>\n",
       "      <td>0</td>\n",
       "      <td>113803</td>\n",
       "      <td>53.1000</td>\n",
       "      <td>S</td>\n",
       "      <td>C</td>\n",
       "      <td>2</td>\n",
       "      <td>Small</td>\n",
       "    </tr>\n",
       "    <tr>\n",
       "      <th>5</th>\n",
       "      <td>0</td>\n",
       "      <td>3</td>\n",
       "      <td>Allen, Mr. William Henry</td>\n",
       "      <td>male</td>\n",
       "      <td>35</td>\n",
       "      <td>0</td>\n",
       "      <td>0</td>\n",
       "      <td>373450</td>\n",
       "      <td>8.0500</td>\n",
       "      <td>S</td>\n",
       "      <td>M</td>\n",
       "      <td>1</td>\n",
       "      <td>Alone</td>\n",
       "    </tr>\n",
       "    <tr>\n",
       "      <th>...</th>\n",
       "      <td>...</td>\n",
       "      <td>...</td>\n",
       "      <td>...</td>\n",
       "      <td>...</td>\n",
       "      <td>...</td>\n",
       "      <td>...</td>\n",
       "      <td>...</td>\n",
       "      <td>...</td>\n",
       "      <td>...</td>\n",
       "      <td>...</td>\n",
       "      <td>...</td>\n",
       "      <td>...</td>\n",
       "      <td>...</td>\n",
       "    </tr>\n",
       "    <tr>\n",
       "      <th>887</th>\n",
       "      <td>0</td>\n",
       "      <td>2</td>\n",
       "      <td>Montvila, Rev. Juozas</td>\n",
       "      <td>male</td>\n",
       "      <td>27</td>\n",
       "      <td>0</td>\n",
       "      <td>0</td>\n",
       "      <td>211536</td>\n",
       "      <td>13.0000</td>\n",
       "      <td>S</td>\n",
       "      <td>M</td>\n",
       "      <td>1</td>\n",
       "      <td>Alone</td>\n",
       "    </tr>\n",
       "    <tr>\n",
       "      <th>888</th>\n",
       "      <td>1</td>\n",
       "      <td>1</td>\n",
       "      <td>Graham, Miss. Margaret Edith</td>\n",
       "      <td>female</td>\n",
       "      <td>19</td>\n",
       "      <td>0</td>\n",
       "      <td>0</td>\n",
       "      <td>112053</td>\n",
       "      <td>30.0000</td>\n",
       "      <td>S</td>\n",
       "      <td>B</td>\n",
       "      <td>1</td>\n",
       "      <td>Alone</td>\n",
       "    </tr>\n",
       "    <tr>\n",
       "      <th>889</th>\n",
       "      <td>0</td>\n",
       "      <td>3</td>\n",
       "      <td>Johnston, Miss. Catherine Helen \"Carrie\"</td>\n",
       "      <td>female</td>\n",
       "      <td>21</td>\n",
       "      <td>1</td>\n",
       "      <td>2</td>\n",
       "      <td>W./C. 6607</td>\n",
       "      <td>23.4500</td>\n",
       "      <td>S</td>\n",
       "      <td>M</td>\n",
       "      <td>4</td>\n",
       "      <td>Small</td>\n",
       "    </tr>\n",
       "    <tr>\n",
       "      <th>890</th>\n",
       "      <td>1</td>\n",
       "      <td>1</td>\n",
       "      <td>Behr, Mr. Karl Howell</td>\n",
       "      <td>male</td>\n",
       "      <td>26</td>\n",
       "      <td>0</td>\n",
       "      <td>0</td>\n",
       "      <td>111369</td>\n",
       "      <td>30.0000</td>\n",
       "      <td>C</td>\n",
       "      <td>C</td>\n",
       "      <td>1</td>\n",
       "      <td>Alone</td>\n",
       "    </tr>\n",
       "    <tr>\n",
       "      <th>891</th>\n",
       "      <td>0</td>\n",
       "      <td>3</td>\n",
       "      <td>Dooley, Mr. Patrick</td>\n",
       "      <td>male</td>\n",
       "      <td>32</td>\n",
       "      <td>0</td>\n",
       "      <td>0</td>\n",
       "      <td>370376</td>\n",
       "      <td>7.7500</td>\n",
       "      <td>Q</td>\n",
       "      <td>M</td>\n",
       "      <td>1</td>\n",
       "      <td>Alone</td>\n",
       "    </tr>\n",
       "  </tbody>\n",
       "</table>\n",
       "<p>891 rows × 13 columns</p>\n",
       "</div>"
      ],
      "text/plain": [
       "             Survived  Pclass  \\\n",
       "PassengerId                     \n",
       "1                   0       3   \n",
       "2                   1       1   \n",
       "3                   1       3   \n",
       "4                   1       1   \n",
       "5                   0       3   \n",
       "...               ...     ...   \n",
       "887                 0       2   \n",
       "888                 1       1   \n",
       "889                 0       3   \n",
       "890                 1       1   \n",
       "891                 0       3   \n",
       "\n",
       "                                                          Name     Sex  Age  \\\n",
       "PassengerId                                                                   \n",
       "1                                      Braund, Mr. Owen Harris    male   22   \n",
       "2            Cumings, Mrs. John Bradley (Florence Briggs Th...  female   38   \n",
       "3                                       Heikkinen, Miss. Laina  female   26   \n",
       "4                 Futrelle, Mrs. Jacques Heath (Lily May Peel)  female   35   \n",
       "5                                     Allen, Mr. William Henry    male   35   \n",
       "...                                                        ...     ...  ...   \n",
       "887                                      Montvila, Rev. Juozas    male   27   \n",
       "888                               Graham, Miss. Margaret Edith  female   19   \n",
       "889                   Johnston, Miss. Catherine Helen \"Carrie\"  female   21   \n",
       "890                                      Behr, Mr. Karl Howell    male   26   \n",
       "891                                        Dooley, Mr. Patrick    male   32   \n",
       "\n",
       "             SibSp  Parch            Ticket     Fare Embarked Deck  \\\n",
       "PassengerId                                                          \n",
       "1                1      0         A/5 21171   7.2500        S    M   \n",
       "2                1      0          PC 17599  71.2833        C    C   \n",
       "3                0      0  STON/O2. 3101282   7.9250        S    M   \n",
       "4                1      0            113803  53.1000        S    C   \n",
       "5                0      0            373450   8.0500        S    M   \n",
       "...            ...    ...               ...      ...      ...  ...   \n",
       "887              0      0            211536  13.0000        S    M   \n",
       "888              0      0            112053  30.0000        S    B   \n",
       "889              1      2        W./C. 6607  23.4500        S    M   \n",
       "890              0      0            111369  30.0000        C    C   \n",
       "891              0      0            370376   7.7500        Q    M   \n",
       "\n",
       "             Family_Size Family_Group  \n",
       "PassengerId                            \n",
       "1                      2        Small  \n",
       "2                      2        Small  \n",
       "3                      1        Alone  \n",
       "4                      2        Small  \n",
       "5                      1        Alone  \n",
       "...                  ...          ...  \n",
       "887                    1        Alone  \n",
       "888                    1        Alone  \n",
       "889                    4        Small  \n",
       "890                    1        Alone  \n",
       "891                    1        Alone  \n",
       "\n",
       "[891 rows x 13 columns]"
      ]
     },
     "execution_count": 44,
     "metadata": {},
     "output_type": "execute_result"
    }
   ],
   "source": [
    "train"
   ]
  },
  {
   "cell_type": "markdown",
   "id": "d9390df0",
   "metadata": {},
   "source": [
    "#### 불필요한 컬럼 삭제\n",
    " - .drop(), 삭제할 이름이 있는 방향으로 axis(= 1) 를 설정\n",
    " - 전처리 대상에서 제외되거나 전처리 후 불필요한 컬럼 삭제\n",
    " - Ticket, Name, Family_Size 삭제\n",
    " - train, test 삭제 적용!"
   ]
  },
  {
   "cell_type": "code",
   "execution_count": 45,
   "id": "0b950128",
   "metadata": {},
   "outputs": [
    {
     "name": "stdout",
     "output_type": "stream",
     "text": [
      "<class 'pandas.core.frame.DataFrame'>\n",
      "Int64Index: 891 entries, 1 to 891\n",
      "Data columns (total 10 columns):\n",
      " #   Column        Non-Null Count  Dtype   \n",
      "---  ------        --------------  -----   \n",
      " 0   Survived      891 non-null    int64   \n",
      " 1   Pclass        891 non-null    int64   \n",
      " 2   Sex           891 non-null    object  \n",
      " 3   Age           891 non-null    int64   \n",
      " 4   SibSp         891 non-null    int64   \n",
      " 5   Parch         891 non-null    int64   \n",
      " 6   Fare          891 non-null    float64 \n",
      " 7   Embarked      891 non-null    object  \n",
      " 8   Deck          891 non-null    object  \n",
      " 9   Family_Group  891 non-null    category\n",
      "dtypes: category(1), float64(1), int64(5), object(3)\n",
      "memory usage: 102.9+ KB\n",
      "<class 'pandas.core.frame.DataFrame'>\n",
      "Int64Index: 418 entries, 892 to 1309\n",
      "Data columns (total 9 columns):\n",
      " #   Column        Non-Null Count  Dtype   \n",
      "---  ------        --------------  -----   \n",
      " 0   Pclass        418 non-null    int64   \n",
      " 1   Sex           418 non-null    object  \n",
      " 2   Age           418 non-null    int64   \n",
      " 3   SibSp         418 non-null    int64   \n",
      " 4   Parch         418 non-null    int64   \n",
      " 5   Fare          418 non-null    float64 \n",
      " 6   Embarked      418 non-null    object  \n",
      " 7   Deck          418 non-null    object  \n",
      " 8   Family_Group  418 non-null    category\n",
      "dtypes: category(1), float64(1), int64(4), object(3)\n",
      "memory usage: 29.9+ KB\n"
     ]
    }
   ],
   "source": [
    "# train.drop()\n",
    "train.drop(['Ticket', 'Name', 'Family_Size'], axis = 1, inplace = True)\n",
    "test.drop(['Ticket', 'Name', 'Family_Size'], axis = 1, inplace = True)\n",
    "\n",
    "train.info() # 10개\n",
    "test.info() # 9개"
   ]
  },
  {
   "cell_type": "markdown",
   "id": "14f92a72",
   "metadata": {},
   "source": [
    "#### 문제, 답 데이터로 분리"
   ]
  },
  {
   "cell_type": "code",
   "execution_count": 46,
   "id": "0d1ef5cd",
   "metadata": {},
   "outputs": [],
   "source": [
    "# 훈련문제, 훈련답\n",
    "X_train = train.drop('Survived', axis = 1)\n",
    "y_train = train['Survived']\n",
    "\n",
    "# 테스트문제\n",
    "X_test = test"
   ]
  },
  {
   "cell_type": "code",
   "execution_count": 47,
   "id": "292f06fa",
   "metadata": {},
   "outputs": [
    {
     "name": "stdout",
     "output_type": "stream",
     "text": [
      "<class 'pandas.core.frame.DataFrame'>\n",
      "Int64Index: 891 entries, 1 to 891\n",
      "Data columns (total 9 columns):\n",
      " #   Column        Non-Null Count  Dtype   \n",
      "---  ------        --------------  -----   \n",
      " 0   Pclass        891 non-null    int64   \n",
      " 1   Sex           891 non-null    object  \n",
      " 2   Age           891 non-null    int64   \n",
      " 3   SibSp         891 non-null    int64   \n",
      " 4   Parch         891 non-null    int64   \n",
      " 5   Fare          891 non-null    float64 \n",
      " 6   Embarked      891 non-null    object  \n",
      " 7   Deck          891 non-null    object  \n",
      " 8   Family_Group  891 non-null    category\n",
      "dtypes: category(1), float64(1), int64(4), object(3)\n",
      "memory usage: 95.9+ KB\n"
     ]
    }
   ],
   "source": [
    "X_train.info()"
   ]
  },
  {
   "cell_type": "code",
   "execution_count": 48,
   "id": "41d3595a",
   "metadata": {},
   "outputs": [
    {
     "data": {
      "text/plain": [
       "Index(['Sex', 'Embarked', 'Deck', 'Family_Group'], dtype='object')"
      ]
     },
     "execution_count": 48,
     "metadata": {},
     "output_type": "execute_result"
    }
   ],
   "source": [
    "# 범주 -> 수치(원핫인코딩)\n",
    "# 인코딩해야하는 컬럼 찾기\n",
    "# 데이터의 타입에 대한 질문으로 불리언 인덱싱 활용해보기\n",
    "cat_filter = (X_train.dtypes != 'int64') & (X_train.dtypes != 'float64')\n",
    "cat_choice = X_train.columns[cat_filter]\n",
    "cat_choice"
   ]
  },
  {
   "cell_type": "code",
   "execution_count": 49,
   "id": "8d4ca11f",
   "metadata": {},
   "outputs": [],
   "source": [
    "# 원핫인코딩 함수 -> pd.get_dummies(대상)\n",
    "X_train_ch_oh = pd.get_dummies(X_train[cat_choice])\n",
    "# X_test 적용\n",
    "X_test_ch_oh = pd.get_dummies(X_test[cat_choice])\n",
    "\n",
    "# X_train 과 원핫인코딩 데이터 합치기(병합하기)\n",
    "X_train = pd.concat([X_train, X_train_ch_oh], axis = 1)\n",
    "X_test = pd.concat([X_test, X_test_ch_oh], axis = 1)\n",
    "\n",
    "# cat_choice 컬럼 삭제하기\n",
    "X_train.drop(cat_choice, axis = 1, inplace = True)\n",
    "X_test.drop(cat_choice, axis = 1, inplace = True)"
   ]
  },
  {
   "cell_type": "code",
   "execution_count": 50,
   "id": "b9067525",
   "metadata": {},
   "outputs": [
    {
     "name": "stdout",
     "output_type": "stream",
     "text": [
      "<class 'pandas.core.frame.DataFrame'>\n",
      "Int64Index: 891 entries, 1 to 891\n",
      "Data columns (total 22 columns):\n",
      " #   Column              Non-Null Count  Dtype  \n",
      "---  ------              --------------  -----  \n",
      " 0   Pclass              891 non-null    int64  \n",
      " 1   Age                 891 non-null    int64  \n",
      " 2   SibSp               891 non-null    int64  \n",
      " 3   Parch               891 non-null    int64  \n",
      " 4   Fare                891 non-null    float64\n",
      " 5   Sex_female          891 non-null    uint8  \n",
      " 6   Sex_male            891 non-null    uint8  \n",
      " 7   Embarked_C          891 non-null    uint8  \n",
      " 8   Embarked_Q          891 non-null    uint8  \n",
      " 9   Embarked_S          891 non-null    uint8  \n",
      " 10  Deck_A              891 non-null    uint8  \n",
      " 11  Deck_B              891 non-null    uint8  \n",
      " 12  Deck_C              891 non-null    uint8  \n",
      " 13  Deck_D              891 non-null    uint8  \n",
      " 14  Deck_E              891 non-null    uint8  \n",
      " 15  Deck_F              891 non-null    uint8  \n",
      " 16  Deck_G              891 non-null    uint8  \n",
      " 17  Deck_M              891 non-null    uint8  \n",
      " 18  Deck_T              891 non-null    uint8  \n",
      " 19  Family_Group_Alone  891 non-null    uint8  \n",
      " 20  Family_Group_Small  891 non-null    uint8  \n",
      " 21  Family_Group_Large  891 non-null    uint8  \n",
      "dtypes: float64(1), int64(4), uint8(17)\n",
      "memory usage: 88.8 KB\n",
      "<class 'pandas.core.frame.DataFrame'>\n",
      "Int64Index: 418 entries, 892 to 1309\n",
      "Data columns (total 21 columns):\n",
      " #   Column              Non-Null Count  Dtype  \n",
      "---  ------              --------------  -----  \n",
      " 0   Pclass              418 non-null    int64  \n",
      " 1   Age                 418 non-null    int64  \n",
      " 2   SibSp               418 non-null    int64  \n",
      " 3   Parch               418 non-null    int64  \n",
      " 4   Fare                418 non-null    float64\n",
      " 5   Sex_female          418 non-null    uint8  \n",
      " 6   Sex_male            418 non-null    uint8  \n",
      " 7   Embarked_C          418 non-null    uint8  \n",
      " 8   Embarked_Q          418 non-null    uint8  \n",
      " 9   Embarked_S          418 non-null    uint8  \n",
      " 10  Deck_A              418 non-null    uint8  \n",
      " 11  Deck_B              418 non-null    uint8  \n",
      " 12  Deck_C              418 non-null    uint8  \n",
      " 13  Deck_D              418 non-null    uint8  \n",
      " 14  Deck_E              418 non-null    uint8  \n",
      " 15  Deck_F              418 non-null    uint8  \n",
      " 16  Deck_G              418 non-null    uint8  \n",
      " 17  Deck_M              418 non-null    uint8  \n",
      " 18  Family_Group_Alone  418 non-null    uint8  \n",
      " 19  Family_Group_Small  418 non-null    uint8  \n",
      " 20  Family_Group_Large  418 non-null    uint8  \n",
      "dtypes: float64(1), int64(4), uint8(16)\n",
      "memory usage: 26.1 KB\n"
     ]
    }
   ],
   "source": [
    "X_train.shape, X_test.shape\n",
    "X_train.info()\n",
    "X_test.info()"
   ]
  },
  {
   "cell_type": "code",
   "execution_count": 51,
   "id": "bc225d55",
   "metadata": {},
   "outputs": [
    {
     "data": {
      "text/plain": [
       "{'Deck_T'}"
      ]
     },
     "execution_count": 51,
     "metadata": {},
     "output_type": "execute_result"
    }
   ],
   "source": [
    "# set() 자료형\n",
    "# 집합\n",
    "# 합집합, 차집합, 교집합\n",
    "# 중복x, 순서x\n",
    "# 중복을 허용하지 않는 set특징은 자료형의 중복을 제거하기 위한 필터 역할로 종종 사용된다\n",
    "# 요소의 여부를 확인하기 위해서도 종종 사용\n",
    "# 인덱싱 하고싶으면 리스트나 튜플로 형변환해서 사용해야함\n",
    "set(X_train.columns) - set(X_test.columns)"
   ]
  },
  {
   "cell_type": "code",
   "execution_count": 55,
   "id": "04229024",
   "metadata": {},
   "outputs": [
    {
     "data": {
      "text/plain": [
       "PassengerId\n",
       "1      0\n",
       "2      0\n",
       "3      0\n",
       "4      0\n",
       "5      0\n",
       "      ..\n",
       "887    0\n",
       "888    0\n",
       "889    0\n",
       "890    0\n",
       "891    0\n",
       "Name: Deck_T, Length: 891, dtype: uint8"
      ]
     },
     "execution_count": 55,
     "metadata": {},
     "output_type": "execute_result"
    }
   ],
   "source": [
    "# list(set(X_train.columns))\n",
    "X_train['Deck_T'] \n",
    "# 'Deck_T'란 컬럼의 PassengerId는 원래 없는것"
   ]
  },
  {
   "cell_type": "code",
   "execution_count": 57,
   "id": "2b215e68",
   "metadata": {},
   "outputs": [
    {
     "data": {
      "text/plain": [
       "(418, 22)"
      ]
     },
     "execution_count": 57,
     "metadata": {},
     "output_type": "execute_result"
    }
   ],
   "source": [
    "# 'Deck_T' 컬럼을 추가하자\n",
    "X_test['Deck_T'] = 0\n",
    "X_test.shape"
   ]
  },
  {
   "cell_type": "code",
   "execution_count": 61,
   "id": "ef041c7f",
   "metadata": {},
   "outputs": [
    {
     "data": {
      "text/plain": [
       "Index(['Pclass', 'Age', 'SibSp', 'Parch', 'Fare', 'Sex_female', 'Sex_male',\n",
       "       'Embarked_C', 'Embarked_Q', 'Embarked_S', 'Deck_A', 'Deck_B', 'Deck_C',\n",
       "       'Deck_D', 'Deck_E', 'Deck_F', 'Deck_G', 'Deck_M', 'Deck_T',\n",
       "       'Family_Group_Alone', 'Family_Group_Small', 'Family_Group_Large'],\n",
       "      dtype='object')"
      ]
     },
     "metadata": {},
     "output_type": "display_data"
    },
    {
     "data": {
      "text/plain": [
       "Index(['Pclass', 'Age', 'SibSp', 'Parch', 'Fare', 'Sex_female', 'Sex_male',\n",
       "       'Embarked_C', 'Embarked_Q', 'Embarked_S', 'Deck_A', 'Deck_B', 'Deck_C',\n",
       "       'Deck_D', 'Deck_E', 'Deck_F', 'Deck_G', 'Deck_M', 'Family_Group_Alone',\n",
       "       'Family_Group_Small', 'Family_Group_Large', 'Deck_T'],\n",
       "      dtype='object')"
      ]
     },
     "metadata": {},
     "output_type": "display_data"
    },
    {
     "data": {
      "text/plain": [
       "Index(['Pclass', 'Age', 'SibSp', 'Parch', 'Fare', 'Sex_female', 'Sex_male',\n",
       "       'Embarked_C', 'Embarked_Q', 'Embarked_S', 'Deck_A', 'Deck_B', 'Deck_C',\n",
       "       'Deck_D', 'Deck_E', 'Deck_F', 'Deck_G', 'Deck_M', 'Deck_T',\n",
       "       'Family_Group_Alone', 'Family_Group_Small', 'Family_Group_Large'],\n",
       "      dtype='object')"
      ]
     },
     "metadata": {},
     "output_type": "display_data"
    }
   ],
   "source": [
    "# 컬럼의 종류는 맞추었지만 컬럼의 배치 순서가 다르다\n",
    "display(X_train.columns)\n",
    "display(X_test.columns)\n",
    "\n",
    "# X_test 컬럼 순서를 X_train 컬럼 순서대로 맞추기\n",
    "X_test = X_test[X_train.columns]\n",
    "display(X_test.columns)\n",
    "# Deck_T가 중간으로 순서가 잘 맞춰진 것을 볼 수 있다"
   ]
  },
  {
   "cell_type": "markdown",
   "id": "651e0405",
   "metadata": {},
   "source": [
    "#### 모델링\n",
    " - 모델 선택 및 하이퍼 파라미터\n",
    " - 모델 학습\n",
    " - 모델 예측 및 평가 (kaggle에 업로드)"
   ]
  },
  {
   "cell_type": "code",
   "execution_count": 62,
   "id": "eb7420dd",
   "metadata": {},
   "outputs": [],
   "source": [
    "# tree분류\n",
    "tree_model = DecisionTreeClassifier()"
   ]
  },
  {
   "cell_type": "code",
   "execution_count": 84,
   "id": "12dfb782",
   "metadata": {},
   "outputs": [],
   "source": [
    "# 학습\n",
    "tree_model.fit(X_train,y_train)\n",
    "\n",
    "# 예측 pred 변수에 담아주기\n",
    "pre = tree_model.predict(X_test)\n",
    "pre\n",
    "\n",
    "# 정확도 점수 확인하기 위해서 kaggle 제출\n",
    "# 답안지 파일 불러오기\n",
    "# 예측 결과 Survived 컬럼에 초기화\n",
    "sub = pd.read_csv('./data/titanic/gender_submission.csv')\n",
    "sub['Survived'] = pre\n",
    "sub.to_csv('bjh_submission01.csv', index=False)"
   ]
  },
  {
   "cell_type": "code",
   "execution_count": 111,
   "id": "71af2455",
   "metadata": {},
   "outputs": [
    {
     "name": "stdout",
     "output_type": "stream",
     "text": [
      "0.8069675475488042\n"
     ]
    }
   ],
   "source": [
    "# tree model - 모델 깊이 조정(하이퍼 파라미터 튜닝 과정)\n",
    "tree_model = DecisionTreeClassifier(max_depth = 5)\n",
    "\n",
    "from sklearn.model_selection import cross_val_score\n",
    "# result = cross_val_score(모델, 문제, 답, cv=5)\n",
    "result = cross_val_score(tree_model, X_train, y_train, cv=5)\n",
    "print(result.mean())\n",
    "\n",
    "# 추후 max_depth, min_samples_split, max_leaf_nodes, min_samples_leaf\n",
    "# 어떤 파라미터 값의 조합이 좋을지 찾아주는 방법을 연결해볼 수 있음(그리드서치)\n",
    "# max_depth : 5\n",
    "# 설정한 모델의 예측값 kaggle 업로드하고 마무리"
   ]
  },
  {
   "cell_type": "code",
   "execution_count": 112,
   "id": "7b0d5fd7",
   "metadata": {},
   "outputs": [],
   "source": [
    "# 학습\n",
    "tree_model.fit(X_train,y_train)\n",
    "\n",
    "# 예측 pred 변수에 담아주기\n",
    "pre = tree_model.predict(X_test)\n",
    "pre\n",
    "\n",
    "# 정확도 점수 확인하기 위해서 kaggle 제출\n",
    "# 답안지 파일 불러오기\n",
    "# 예측 결과 Survived 컬럼에 초기화\n",
    "sub = pd.read_csv('./data/titanic/gender_submission.csv')\n",
    "sub['Survived'] = pre\n",
    "sub.to_csv('bjh_submission02.csv', index=False)"
   ]
  },
  {
   "cell_type": "code",
   "execution_count": null,
   "id": "fcdcff86",
   "metadata": {},
   "outputs": [],
   "source": []
  }
 ],
 "metadata": {
  "kernelspec": {
   "display_name": "Python 3 (ipykernel)",
   "language": "python",
   "name": "python3"
  },
  "language_info": {
   "codemirror_mode": {
    "name": "ipython",
    "version": 3
   },
   "file_extension": ".py",
   "mimetype": "text/x-python",
   "name": "python",
   "nbconvert_exporter": "python",
   "pygments_lexer": "ipython3",
   "version": "3.11.4"
  }
 },
 "nbformat": 4,
 "nbformat_minor": 5
}
