{
 "cells": [
  {
   "cell_type": "code",
   "execution_count": 27,
   "id": "ad61ecd0",
   "metadata": {},
   "outputs": [],
   "source": [
    "# 이미지 경로를 실제 파일로 저장\n",
    "from urllib.request import urlretrieve\n",
    "import os\n",
    "from selenium import webdriver as wb\n",
    "from selenium.webdriver.common.by import By\n",
    "from selenium.webdriver.common.keys import Keys\n",
    "import time"
   ]
  },
  {
   "cell_type": "code",
   "execution_count": 13,
   "id": "93289a3c",
   "metadata": {},
   "outputs": [],
   "source": [
    "img_dir = r'C:\\Users\\newny\\Desktop\\이미지'\n",
    "if not os.path.isdir(img_dir):\n",
    "    os.mkdir(img_dir)"
   ]
  },
  {
   "cell_type": "code",
   "execution_count": 24,
   "id": "579d6b22",
   "metadata": {},
   "outputs": [],
   "source": [
    "driver = wb.Chrome()\n",
    "driver.get('https://search.naver.com/search.naver?where=image&sm=tab_jum&query=%ED%8C%90%EB%8B%A4')"
   ]
  },
  {
   "cell_type": "code",
   "execution_count": 28,
   "id": "c5250c50",
   "metadata": {},
   "outputs": [],
   "source": [
    "for _ in range(10):\n",
    "    body = driver.find_element(By.TAG_NAME, 'body')\n",
    "    body.send_keys(Keys.END)\n",
    "    time.sleep(2)"
   ]
  },
  {
   "cell_type": "code",
   "execution_count": 10,
   "id": "24d0505d",
   "metadata": {},
   "outputs": [
    {
     "data": {
      "text/plain": [
       "'https://search.pstatic.net/common/?src=http%3A%2F%2Fimgnews.naver.net%2Fimage%2F421%2F2023%2F07%2F20%2F0006941151_008_20230720160112031.jpg&type=a340'"
      ]
     },
     "execution_count": 10,
     "metadata": {},
     "output_type": "execute_result"
    }
   ],
   "source": [
    "imgs = driver.find_elements(By.CSS_SELECTOR, \"#main_pack > section.sc_new.sp_nimage._prs_img._imageSearchPC > div > div.photo_group._listGrid > div.photo_tile._grid > div > div > div.thumb > a > img\")\n",
    "\n",
    "# 'src'속성 가지고 와\n",
    "# 단일 요소.get_attribute\n",
    "imgs[0].get_attribute('src')"
   ]
  },
  {
   "cell_type": "code",
   "execution_count": 12,
   "id": "5797739f",
   "metadata": {
    "collapsed": true
   },
   "outputs": [
    {
     "data": {
      "text/plain": [
       "['https://search.pstatic.net/common/?src=http%3A%2F%2Fimgnews.naver.net%2Fimage%2F421%2F2023%2F07%2F20%2F0006941151_008_20230720160112031.jpg&type=a340',\n",
       " 'https://search.pstatic.net/sunny/?src=https%3A%2F%2Fdcimg6.dcinside.co.kr%2Fviewimage.php%3Fid%3D2ba8d227ea%26no%3D24b0d769e1d32ca73fea81fa11d028310bcfe0de5d45c4cda5ff06c6105a012011a743cba04cb8fa5a159c95efd794d60ea5920c24775cebd8fe98140802b7015047dbebbea1530c01d5b8f6ff02b08b8a6c286645c63c5077211caad7dcbee8e095a66dfaee&type=a340',\n",
       " 'https://search.pstatic.net/common/?src=http%3A%2F%2Fblogfiles.naver.net%2FMjAyMzA4MTFfMTg5%2FMDAxNjkxNzM3OTI5MDk2.OAffpBx0rMO_iueN64MePhN3mKuG-z0UnQxOzwWFR8og.UNk2SfK5HJkzq6qAkuvh81Qx9Ln2EmJHS6RbRz8uTw8g.JPEG.mj93424%2FDSC00850.JPG&type=l340_165',\n",
       " 'https://search.pstatic.net/sunny/?src=https%3A%2F%2Fdimg.donga.com%2Fwps%2FNEWS%2FIMAGE%2F2023%2F07%2F11%2F120171710.2.jpg&type=a340',\n",
       " 'https://search.pstatic.net/common/?src=http%3A%2F%2Fblogfiles.naver.net%2FMjAyMzA2MjhfOTMg%2FMDAxNjg3OTU0Mzc4MDM0.CzpzH4z1SCQO_PtoNaMXJsMxchNDwOCetinN1KGt0PIg.AnZ52j0OCE4bbm7BWnixfQ0k6sKmTjgbtKGONAFEfPMg.JPEG.xiangshu6988%2Fimg%25A3%25AD16878752437344d3b2f6408abfc522e0c891059db2c2b357b5f6acbf97256488e79ccddb.jpg&type=a340',\n",
       " 'https://search.pstatic.net/common/?src=http%3A%2F%2Fblogfiles.naver.net%2FMjAyMzA3MDJfNTEg%2FMDAxNjg4MjI3MTU3NDYw._wu61Rr2z20Ek26uqsFfIp6UMQKuVH5zcv3TsCtLFtgg.Im9tpp6KXsKortfY3PfhRsWUjUsncfJy-mALTDbnL-Yg.JPEG.chimk13%2FIMG_9645.JPG&type=a340',\n",
       " 'https://search.pstatic.net/common/?src=http%3A%2F%2Fblogfiles.naver.net%2FMjAyMzA2MTdfMjMz%2FMDAxNjg2OTg1OTE4OTc1.9XDgBZ4CJoghttYnCSXdkF8rJ_F7lluAIEZtsCtsyjAg.64xZJ7MPUcNojLYdPVS0bkDFtK9w5rtQ3i42Xp-RvEQg.JPEG.hand4444%2F%25C7%25AA%25B9%25D9%25BF%25C0-68.jpg&type=a340',\n",
       " 'https://search.pstatic.net/common/?src=http%3A%2F%2Fblogfiles.naver.net%2FMjAyMzA3MTVfMjUy%2FMDAxNjg5MzU3MzgxNTA1.2Xwbs5X_ROpC0sRMG5ZHLe7TMth1qWQCr0rhrWCuRVQg.daCugg5Zgf-8VA33acFzSGqKroEv9Lszl0W8z4EQmI4g.JPEG.xiangshu6988%2Fimg%25A3%25AD1689354862206ab3ce850afc8bfbcd1bb3453179d3f8172277605da5d3e5616fa44a2458.jpg&type=a340',\n",
       " 'https://search.pstatic.net/common/?src=http%3A%2F%2Fblogfiles.naver.net%2FMjAyMzA3MTJfMTMx%2FMDAxNjg5MTUyMTk0MDQ0.bzzkkTzCxz6MsQWI80LmDFt4upbmcQ9ax8BIfPZoIoEg.hEIc5ecW7rTVYjgUvS0EWE92jg3B_sOcnj0XS0EKZCQg.JPEG.aldksplm%2Fpanda-g93b9f7908_1280.jpg&type=a340',\n",
       " 'https://search.pstatic.net/common/?src=http%3A%2F%2Fimage.nmv.naver.net%2Fblog_2023_07_01_2253%2Fbfb2a9b2-17c4-11ee-833a-505dac8c3639_01.jpg&type=ofullfill340_600_png',\n",
       " 'https://search.pstatic.net/common/?src=http%3A%2F%2Fblogfiles.naver.net%2FMjAyMzA2MjJfMjU0%2FMDAxNjg3NDI2MDkyNTQw.Ov3Y_Uwt0jrYrXGKgOST11Co5MaI2q4dDLlhDXlNxkog.J03dIETTQ028z_TLeSh4aNZEe4FfUurC_tf09paM3-cg.JPEG.strawberry_5424%2FIMG_2185.JPG&type=a340',\n",
       " 'https://search.pstatic.net/common/?src=http%3A%2F%2Fimage.nmv.naver.net%2Fcafe_2023_06_20_1471%2F0481dc72-0f6f-11ee-833a-505dac8c3639_01.jpg&type=ofullfill340_600_png',\n",
       " 'https://search.pstatic.net/common/?src=http%3A%2F%2Fblogfiles.naver.net%2FMjAyMzA1MzFfMTYy%2FMDAxNjg1NTQ0NDk1MjEy._O2aL2yM8aG8aA2SAKICVYz-MrlSUzm_BOi9m1t30Fwg.I5ft5WfE6KnssHHZdF3t_DshB93F2TxOZPPosYZByVUg.JPEG.niceguy00%2FSeul_%25BF%25EB%25C0%25CE%25C7%25AA%25BE%25BE_%25C7%25AA%25B9%25D9%25BF%25C0123.jpg&type=ofullfill340_600_png',\n",
       " 'https://search.pstatic.net/common/?src=http%3A%2F%2Fblogfiles.naver.net%2FMjAyMzA2MDVfMTU2%2FMDAxNjg1OTU1NTE4MDY3.DghyDXg40K7nzd49UpuIEIOG-cfkkG8XLlx43_0O6VQg.Phfb3UFqSymKslUKzFzEIcoiWbDLiN2aKTZWgYfRFcQg.JPEG.dsshkg%2F1685955517093.jpg&type=a340',\n",
       " 'https://search.pstatic.net/common/?src=http%3A%2F%2Fblogfiles.naver.net%2FMjAyMzA2MzBfNzAg%2FMDAxNjg4MTE3ODQ4MDE0.OL_xH2AaPsUAPNPMEvGFw4Ria5uPfI_5k-3JNSuQ458g.dxdgNMPQKrU8jtYUVRgbPisGVeOLlWTPjARYhmdi_2gg.JPEG.xiangshu6988%2Fd871f2b94145aa66.jpg&type=a340',\n",
       " 'https://search.pstatic.net/common/?src=http%3A%2F%2Fblogfiles.naver.net%2FMjAyMzA2MDNfMTk0%2FMDAxNjg1Nzk0OTk0NTI5.SSJyGd5OkjHbK99CAIyilaA4QbHt-bx3CPVwG_XPsB8g.gou3-kmbLUsCkPk9icdh9SAaA-AKxAjswHnq90mTdYog.JPEG.memaamemv%2FIMG_1733.jpg&type=a340',\n",
       " 'https://search.pstatic.net/common/?src=http%3A%2F%2Fblogfiles.naver.net%2FMjAyMzA2MDZfMTE5%2FMDAxNjg2MDYxMTU3ODk0.lolCAkYd5qK0rS9Fbd4rCnkSfwyG6qVv9zD24bLeOi4g.MwXcMiSyxzhIrGGPJmCsXPvb1nwjwxQh7SJ8_5173MQg.JPEG.dongtian%2F1d63f6f19795475c8f91beee9c9acdc2%25A3%25DF347423926%25A3%25DF165994842816383%25A3%25DF61363223003769932.jpg&type=a340',\n",
       " 'https://search.pstatic.net/common/?src=http%3A%2F%2Fblogfiles.naver.net%2FMjAyMzA2MDVfMTgx%2FMDAxNjg1OTY5ODA3Nzc5.1kP4_VIzK1oDIH27TLeVkukVVrfP8GSQD2D0UnCPWTog.5H6jdX2apLwjv0mc0lP0jw3ZDCH8gi1FnMxhVHssW3Qg.JPEG.ooooohjy%2F20230604%25A3%25DF132933.jpg&type=a340',\n",
       " 'https://search.pstatic.net/common/?src=http%3A%2F%2Fblogfiles.naver.net%2FMjAyMzA1MzBfMTUg%2FMDAxNjg1NDI1NDQwMTY5.E4qRe1GJ-zSfBDLNkUj8-pFKsx-mDHzAFhimwHS1CYAg.q-7WU5Ye9Roqb0nz9By97lsy1eV0WC6aoDo7XlmBOrEg.JPEG.ssolah3458%2F20230528_104934.jpg&type=a340',\n",
       " 'https://search.pstatic.net/common/?src=http%3A%2F%2Fblogfiles.naver.net%2FMjAyMzA3MjJfNDEg%2FMDAxNjkwMDE5ODkyNjUy.kELDwV_Ur5jaPtHEAGXtr50l_bybEx8KGMlTdiVeF4Eg.wZ7dk_0tUcP-sRYBFRpHz-jZ_HhFVEi-piYTJFFxIoQg.JPEG.reorio99%2F5.JPG&type=a340',\n",
       " 'https://search.pstatic.net/common/?src=http%3A%2F%2Fimage.nmv.naver.net%2Fcafe_2022_12_18_88%2F281f3e37-7e6b-11ed-a05f-505dac8c385b_01.jpg&type=a340',\n",
       " 'https://search.pstatic.net/common/?src=http%3A%2F%2Fimgnews.naver.net%2Fimage%2F421%2F2023%2F03%2F30%2F0006716984_001_20230330151804882.jpg&type=a340',\n",
       " 'https://search.pstatic.net/common/?src=http%3A%2F%2Fimage.nmv.naver.net%2Fblog_2023_06_17_1379%2F5da243f0-0ca0-11ee-bb6e-505dac8c35ff_01.jpg&type=a340',\n",
       " 'https://search.pstatic.net/common/?src=http%3A%2F%2Fblogfiles.naver.net%2FMjAyMTA5MTJfMjc4%2FMDAxNjMxMzk0ODQ1MDU4.9vsd2UZzog_Ms_JchfZwLu00pzHmjf5b_HQxyhIZCHYg.T9RgyjCT0WF8OT4g92Y1aygE1i2K_zH7zPzKJ6xe1B8g.JPEG.sseemi%2FIMG_5907.JPG&type=a340',\n",
       " 'https://search.pstatic.net/common/?src=http%3A%2F%2Fblogfiles.naver.net%2FMjAyMzA2MjRfNjUg%2FMDAxNjg3NTY2NDE2ODU0.UKCo2a_t4AwxD-mH7XEng4NReL-bb5VlXib98vZBDn4g.i0Pe4RTjlX-Fd0WKhH5z2BrbMjHX1JObUfylhsqGsfAg.JPEG.104204303%2FIMG_7619.JPG&type=a340',\n",
       " 'https://search.pstatic.net/common/?src=http%3A%2F%2Fblogfiles.naver.net%2FMjAyMzA2MDJfMTU0%2FMDAxNjg1NjMyMDExNjE5.VZ6MOIuvL8txHCz1g8aaXdvZ1Yo2upVeb2rYtXMOZEMg.t8JkBhT5daGf0tLApApbDMb9nmB1vJ7x4crVchcvkRog.JPEG.csj991111%2Foutput_227539908.jpg&type=a340',\n",
       " 'https://search.pstatic.net/common/?src=http%3A%2F%2Fblogfiles.naver.net%2FMjAyMzA2MTBfODgg%2FMDAxNjg2MzcyMzA1NjAz.M4-Frzm00-jKUouuAG1CgFza3UKL6BD90hbvcDSMt6Yg.N6iNU94DQ4PeyrA661TF1OTKouAx_n4p0-BO5L8_yXAg.JPEG.niceguy00%2FSeul_%25BF%25EB%25C0%25CE%25C7%25AA%25BE%25BE_%25BE%25C6%25C0%25CC%25B9%25D9%25BF%25C0_%25C7%25AA%25B9%25D9%25BF%25C0_%25C5%25F5%25BC%25A645.jpg&type=ofullfill340_600_png',\n",
       " 'https://search.pstatic.net/common/?src=http%3A%2F%2Fblogfiles.naver.net%2FMjAyMzAxMzFfNTMg%2FMDAxNjc1MTI1NTQ4OTI2.nrBsARqRS1RFZQNzzCgcyKzCMUriCbA27RvgbRqUXlIg.6Kp62uRJK0BPrS6zyl4D-B7XTs0TmQEgbk8dctwyrF8g.JPEG.nyoo_topia%2Foutput_3590942440.jpg&type=a340',\n",
       " 'https://search.pstatic.net/sunny/?src=https%3A%2F%2Fimg5.yna.co.kr%2Fmpic%2FYH%2F2023%2F07%2F11%2FMYH20230711015700641.jpg&type=a340',\n",
       " 'https://search.pstatic.net/common/?src=http%3A%2F%2Fblogfiles.naver.net%2FMjAyMzA3MTZfMTk5%2FMDAxNjg5NDQ2ODk2NTQx.7uFU7VLewBjq72gIG5j570ky3S0Xjil1XGrDk5EHkTkg.uPyyE393gVaxJPquIAKREns_EOe0JMb4mWIUMhizVcQg.JPEG.elenes53%2FIMG%25A3%25DF20230716%25A3%25DF034325.jpg&type=a340',\n",
       " 'https://search.pstatic.net/common/?src=http%3A%2F%2Fimgnews.naver.net%2Fimage%2F001%2F2023%2F07%2F11%2FPYH2023071101910001300_P4_20230711084304518.jpg&type=a340',\n",
       " 'https://search.pstatic.net/common/?src=http%3A%2F%2Fblogfiles.naver.net%2FMjAyMzAzMDRfMTM2%2FMDAxNjc3ODk5MDM1MjM5.o_EfUhRYoL72LVI8kqT5uJToOeRQ3XX75ZReSN4Obw4g.HJ24rYI8D0EI2p6Ir4I7R_LwE3srx_WBtqTaughUD80g.JPEG.elephant35%2F1677899029654.jpg&type=a340',\n",
       " 'https://search.pstatic.net/common/?src=http%3A%2F%2Fblogfiles.naver.net%2FMjAyMzA1MjdfMjYw%2FMDAxNjg1MTk4MDM2NzA4.rquSxznr8nOOnpno9ZqlU5l3kRuPsjmo33vNExrCHIcg.SKVlwk70aQ4QdXUgc3OxJzcF54p9gB0NdLPk8ShY-wEg.JPEG.niceguy00%2FSeul%25C4%25C4_%25BF%25EB%25C0%25CE%25C7%25AA%25BE%25BE_%25C7%25AA%25B9%25D9%25BF%25C045.jpg&type=a340',\n",
       " 'https://search.pstatic.net/common/?src=http%3A%2F%2Fimage.nmv.naver.net%2Fcafe_2022_12_19_974%2Fe9c54087-7f46-11ed-90ce-505dac8c35ff_03.jpg&type=a340',\n",
       " 'https://search.pstatic.net/common/?src=http%3A%2F%2Fblogfiles.naver.net%2FMjAyMzAzMTZfMTA2%2FMDAxNjc4OTM0NDgzNTgx.IpHxeSK5dKwKU0SS8lJqHF2scggm1Dp7us2ug6ZtDkQg.8t6mGXdpABJaZ-l-jUTmg8P7AeyTamRd-2Db4exfH2Mg.JPEG.ahnshine%2Fpanda1.jpg&type=a340',\n",
       " 'https://search.pstatic.net/common/?src=http%3A%2F%2Fblogfiles.naver.net%2FMjAyMzA2MjZfNTcg%2FMDAxNjg3NzgyODM0NDc0.IOUC5dIhyuISwXu9tQhB-Fz4LT6XFueIrTf-g_hWaXMg.iOK3FQj2iT62EcDAvaa6rqUmorXqVXElmI1IYTFM9xkg.JPEG.cobicobin_%2FIMG_4355.JPG&type=a340',\n",
       " 'https://search.pstatic.net/common/?src=http%3A%2F%2Fblogfiles.naver.net%2FMjAyMzA1MTFfMTYz%2FMDAxNjgzNzg2MDA1NTMz.zIv8Q70mbwn4lWMHvKO-hSUiN8p8Whr_OtHOhD1_qB8g.01_oc_WlIFzFoFK0hmj5tch2sAKk81omBGE7E8imqIgg.JPEG.356910%2F20230424%25A3%25DF085337.jpg&type=ofullfill340_600_png',\n",
       " 'https://search.pstatic.net/common/?src=http%3A%2F%2Fimage.nmv.naver.net%2Fblog_2023_06_24_1277%2Fe999d3ea-11d6-11ee-b15b-80615f0bce44_01.jpg&type=ofullfill340_600_png',\n",
       " 'https://search.pstatic.net/common/?src=http%3A%2F%2Fblogfiles.naver.net%2FMjAyMzA2MDFfODUg%2FMDAxNjg1NjAwNTk1ODcw.TVClWNJpHvbw9Ak_R7jD7P1ralXSVWKgVQr8X2YY80Qg.OEW1DF4Y2Ux9ouACXlo7easgRAN-B8zLBD8gJI2udxog.PNG.korea8110%2Fimage.png&type=l340_165',\n",
       " 'https://search.pstatic.net/common/?src=http%3A%2F%2Fblogfiles.naver.net%2FMjAyMzA3MTFfMjky%2FMDAxNjg5MDc0MDcxOTE4.y3ieUYUoZLl6cfEFYfhBw4dhj9QFnk5Xc9jOLZ2Zt1og.nMXXEWkv8VsNTA5ZJcRnWlP6evM9XcJdgC3iSb9JDfog.JPEG.whtmddus0611%2FIMG_9861.JPG&type=a340',\n",
       " 'https://search.pstatic.net/common/?src=http%3A%2F%2Fblogfiles.naver.net%2FMjAyMzA1MjNfMTQg%2FMDAxNjg0ODAzNjM1Mjcy.9VdrHR19_w3i9jNxb56BV_TEY8cHNygoh_NXmztTbrEg.3TffY-5MDDRNHSs5032J1vtXhK0Xosv-xemrYSZibrIg.JPEG.uneve4%2FIMG_3732.jpg&type=a340',\n",
       " 'https://search.pstatic.net/common/?src=http%3A%2F%2Fblogfiles.naver.net%2FMjAyMzA2MjJfMTc2%2FMDAxNjg3NDQwOTkzNDU1.vquXxVlUdrlZgtF_10lJS6_pspqN3U4yxmIkB3_bZVkg.80533NMpBrh1XucS-_mRfWG6n3aNrVQXMfTrG4sLQJIg.JPEG.trric%2F338285140_166383709663489_2150923468399804784_n.jpg&type=a340',\n",
       " 'https://search.pstatic.net/common/?src=http%3A%2F%2Fblogfiles.naver.net%2FMjAyMzA2MDlfMTg0%2FMDAxNjg2MzE3MjUwNDUw.sJwoONG035X5ThjulG9opbSiiDjdktsS7xdPa19mn3wg.lwQTYniBWaScn7VDy_oeWllrHrDzkz4_kpFSlEYv620g.JPEG.ssunyu12%2FIMG_2802.jpg&type=a340',\n",
       " 'https://search.pstatic.net/common/?src=http%3A%2F%2Fblogfiles.naver.net%2FMjAyMzA3MTZfMTQ3%2FMDAxNjg5NDg2NzkzNDU4.3KMu1azLlU9Uunq5vOvIQZ0jObsyjZnAo6PjHPpnjj4g.sRpiNV8URcJQwI6BLRkQdIjbQX7vITSlfhMN1SAmVo0g.JPEG.gkakwlfkf%2F20230701%25A3%25DF163329.jpg&type=a340',\n",
       " 'https://search.pstatic.net/common/?src=http%3A%2F%2Fblogfiles.naver.net%2FMjAyMzA1MTNfMTk4%2FMDAxNjgzOTU0OTcyMzgw.sJBYUX-bCd4h-18lwg39vPr9Tpx2M_1TFIVwT1SBYl8g.HtM9gLNNL1eDMzr9mstIVkya6fFojNlnvfv-WY0TRqYg.JPEG.love10004com%2Fresized%25A3%25DFScreenshot%25A3%25DF20230509%25A3%25DF085909%25A3%25DFInstagram%25A3%25DF20230513%25A3%25DF140749.jpg&type=a340',\n",
       " 'https://search.pstatic.net/common/?src=http%3A%2F%2Fblogfiles.naver.net%2FMjAyMzAzMDhfMTQ5%2FMDAxNjc4MjYxNzQzMjkx.YQm2gXQHYFzk2mxfzBAfsHcgFpcAFRnuzxAcLFVK_-Qg.zPe14e7woF67xgA49ZDLPVZiuaE-8U9yYxMlvdp53XMg.JPEG.atelier_sucre%2FIMG_2445.JPG&type=a340',\n",
       " 'https://search.pstatic.net/common/?src=http%3A%2F%2Fimage.nmv.naver.net%2Fcafe_2023_06_08_1270%2F1b24e95f-0545-11ee-8f8b-80615f0bcbf0_01.jpg&type=l340_165',\n",
       " 'https://search.pstatic.net/common/?src=http%3A%2F%2Fblogfiles.naver.net%2FMjAyMzA3MjBfNTMg%2FMDAxNjg5ODMwNDkyNTYz.G8ViHcrdSsSvaSL2ER1qC8a_mXpb_e9R3zwgty6ZxDsg.VZ2-RZUxCqqZGkpNQByvN8muHEJ6fRQCPRL_ReMoPHAg.JPEG.godqhrgkssl1%2FKakaoTalk_20230720_134959554_17.jpg&type=a340']"
      ]
     },
     "execution_count": 12,
     "metadata": {},
     "output_type": "execute_result"
    }
   ],
   "source": [
    "# src만 담아줄 리스트를 제작\n",
    "src = []\n",
    "for i in range(len(imgs)):\n",
    "    src.append(imgs[i].get_attribute('src'))\n",
    "src"
   ]
  },
  {
   "cell_type": "code",
   "execution_count": 15,
   "id": "cceee842",
   "metadata": {},
   "outputs": [],
   "source": [
    "# 이미지의 경로를 실제 파일로 저장\n",
    "for i in range(len(src)):\n",
    "    urlretrieve(src[i], img_dir + r'\\img' + str(i) + '.png')"
   ]
  },
  {
   "cell_type": "markdown",
   "id": "71e61ade",
   "metadata": {},
   "source": [
    "## 한셀로 합치기"
   ]
  },
  {
   "cell_type": "code",
   "execution_count": 30,
   "id": "c2755f5e",
   "metadata": {},
   "outputs": [],
   "source": [
    "# 이미지 경로를 실제 파일로 저장\n",
    "from urllib.request import urlretrieve\n",
    "import os\n",
    "from selenium import webdriver as wb\n",
    "from selenium.webdriver.common.by import By\n",
    "from selenium.webdriver.common.keys import Keys\n",
    "import time\n",
    "\n",
    "img_dir = r'C:\\Users\\newny\\Desktop\\이미지'\n",
    "if not os.path.isdir(img_dir):\n",
    "    os.mkdir(img_dir)\n",
    "    \n",
    "driver = wb.Chrome()\n",
    "driver.get('https://search.naver.com/search.naver?where=image&sm=tab_jum&query=%ED%8C%90%EB%8B%A4')\n",
    "\n",
    "for _ in range(10):\n",
    "    body = driver.find_element(By.TAG_NAME, 'body')\n",
    "    body.send_keys(Keys.END)\n",
    "    time.sleep(2)\n",
    "    \n",
    "imgs = driver.find_elements(By.CSS_SELECTOR, \"#main_pack > section.sc_new.sp_nimage._prs_img._imageSearchPC > div > div.photo_group._listGrid > div.photo_tile._grid > div > div > div.thumb > a > img\")\n",
    "\n",
    "# src만 담아줄 리스트를 제작\n",
    "src = []\n",
    "for i in range(len(imgs)):\n",
    "    src.append(imgs[i].get_attribute('src'))\n",
    "\n",
    "    \n",
    "# 이미지의 경로를 실제 파일로 저장\n",
    "for i in range(len(src)):\n",
    "    urlretrieve(src[i], img_dir + r'\\img' + str(i) + '.png')"
   ]
  }
 ],
 "metadata": {
  "kernelspec": {
   "display_name": "Python 3 (ipykernel)",
   "language": "python",
   "name": "python3"
  },
  "language_info": {
   "codemirror_mode": {
    "name": "ipython",
    "version": 3
   },
   "file_extension": ".py",
   "mimetype": "text/x-python",
   "name": "python",
   "nbconvert_exporter": "python",
   "pygments_lexer": "ipython3",
   "version": "3.11.4"
  }
 },
 "nbformat": 4,
 "nbformat_minor": 5
}
