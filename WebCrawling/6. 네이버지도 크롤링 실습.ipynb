{
 "cells": [
  {
   "cell_type": "code",
   "execution_count": 21,
   "id": "fc49041f",
   "metadata": {},
   "outputs": [
    {
     "ename": "ElementNotInteractableException",
     "evalue": "Message: element not interactable\n  (Session info: chrome=116.0.5845.111)\nStacktrace:\n\tGetHandleVerifier [0x00007FF7D06052A2+57122]\n\t(No symbol) [0x00007FF7D057EA92]\n\t(No symbol) [0x00007FF7D044E25D]\n\t(No symbol) [0x00007FF7D04832B7]\n\t(No symbol) [0x00007FF7D048263B]\n\t(No symbol) [0x00007FF7D04A6FDA]\n\t(No symbol) [0x00007FF7D047EB76]\n\t(No symbol) [0x00007FF7D04A71F0]\n\t(No symbol) [0x00007FF7D04BEB82]\n\t(No symbol) [0x00007FF7D04A6DB3]\n\t(No symbol) [0x00007FF7D047D2B1]\n\t(No symbol) [0x00007FF7D047E494]\n\tGetHandleVerifier [0x00007FF7D08AEF82+2849794]\n\tGetHandleVerifier [0x00007FF7D0901D24+3189156]\n\tGetHandleVerifier [0x00007FF7D08FACAF+3160367]\n\tGetHandleVerifier [0x00007FF7D0696D06+653702]\n\t(No symbol) [0x00007FF7D058A208]\n\t(No symbol) [0x00007FF7D05862C4]\n\t(No symbol) [0x00007FF7D05863F6]\n\t(No symbol) [0x00007FF7D05767A3]\n\tBaseThreadInitThunk [0x00007FFF71B97614+20]\n\tRtlUserThreadStart [0x00007FFF73AC26B1+33]\n",
     "output_type": "error",
     "traceback": [
      "\u001b[1;31m---------------------------------------------------------------------------\u001b[0m",
      "\u001b[1;31mElementNotInteractableException\u001b[0m           Traceback (most recent call last)",
      "Cell \u001b[1;32mIn[21], line 15\u001b[0m\n\u001b[0;32m     12\u001b[0m     box\u001b[38;5;241m.\u001b[39msend_keys(Keys\u001b[38;5;241m.\u001b[39mEND)    \n\u001b[0;32m     13\u001b[0m     time\u001b[38;5;241m.\u001b[39msleep(\u001b[38;5;241m100\u001b[39m)\n\u001b[1;32m---> 15\u001b[0m crawling(\u001b[38;5;124m'\u001b[39m\u001b[38;5;124m동명동 맛집\u001b[39m\u001b[38;5;124m'\u001b[39m)\n",
      "Cell \u001b[1;32mIn[21], line 12\u001b[0m, in \u001b[0;36mcrawling\u001b[1;34m(query)\u001b[0m\n\u001b[0;32m     10\u001b[0m driver\u001b[38;5;241m.\u001b[39mget(\u001b[38;5;124mf\u001b[39m\u001b[38;5;124m'\u001b[39m\u001b[38;5;124mhttps://pcmap.place.naver.com/restaurant/list?query=\u001b[39m\u001b[38;5;132;01m{\u001b[39;00mquery\u001b[38;5;132;01m}\u001b[39;00m\u001b[38;5;124m&x=126.92312494639071&y=35.14494900000031&clientX=126.923125&clientY=35.144949&bounds=126.91782490170544%3B35.139790340897406%3B126.92863956779888%3B35.149931884047646&ts=1693193780991&mapUrl=https%3A%2F%2Fmap.naver.com%2Fp%2Fsearch%2F%EB%8F%99%EB%AA%85%EB%8F%99+%EB%A7%9B%EC%A7%91\u001b[39m\u001b[38;5;124m'\u001b[39m)\n\u001b[0;32m     11\u001b[0m box \u001b[38;5;241m=\u001b[39m driver\u001b[38;5;241m.\u001b[39mfind_element(By\u001b[38;5;241m.\u001b[39mCSS_SELECTOR, \u001b[38;5;124m'\u001b[39m\u001b[38;5;124m#_pcmap_list_scroll_container > ul\u001b[39m\u001b[38;5;124m'\u001b[39m)\n\u001b[1;32m---> 12\u001b[0m box\u001b[38;5;241m.\u001b[39msend_keys(Keys\u001b[38;5;241m.\u001b[39mEND)    \n\u001b[0;32m     13\u001b[0m time\u001b[38;5;241m.\u001b[39msleep(\u001b[38;5;241m100\u001b[39m)\n",
      "File \u001b[1;32m~\\AppData\\Roaming\\Python\\Python311\\site-packages\\selenium\\webdriver\\remote\\webelement.py:231\u001b[0m, in \u001b[0;36mWebElement.send_keys\u001b[1;34m(self, *value)\u001b[0m\n\u001b[0;32m    228\u001b[0m             remote_files\u001b[38;5;241m.\u001b[39mappend(\u001b[38;5;28mself\u001b[39m\u001b[38;5;241m.\u001b[39m_upload(file))\n\u001b[0;32m    229\u001b[0m         value \u001b[38;5;241m=\u001b[39m \u001b[38;5;124m\"\u001b[39m\u001b[38;5;130;01m\\n\u001b[39;00m\u001b[38;5;124m\"\u001b[39m\u001b[38;5;241m.\u001b[39mjoin(remote_files)\n\u001b[1;32m--> 231\u001b[0m \u001b[38;5;28mself\u001b[39m\u001b[38;5;241m.\u001b[39m_execute(\n\u001b[0;32m    232\u001b[0m     Command\u001b[38;5;241m.\u001b[39mSEND_KEYS_TO_ELEMENT, {\u001b[38;5;124m\"\u001b[39m\u001b[38;5;124mtext\u001b[39m\u001b[38;5;124m\"\u001b[39m: \u001b[38;5;124m\"\u001b[39m\u001b[38;5;124m\"\u001b[39m\u001b[38;5;241m.\u001b[39mjoin(keys_to_typing(value)), \u001b[38;5;124m\"\u001b[39m\u001b[38;5;124mvalue\u001b[39m\u001b[38;5;124m\"\u001b[39m: keys_to_typing(value)}\n\u001b[0;32m    233\u001b[0m )\n",
      "File \u001b[1;32m~\\AppData\\Roaming\\Python\\Python311\\site-packages\\selenium\\webdriver\\remote\\webelement.py:395\u001b[0m, in \u001b[0;36mWebElement._execute\u001b[1;34m(self, command, params)\u001b[0m\n\u001b[0;32m    393\u001b[0m     params \u001b[38;5;241m=\u001b[39m {}\n\u001b[0;32m    394\u001b[0m params[\u001b[38;5;124m\"\u001b[39m\u001b[38;5;124mid\u001b[39m\u001b[38;5;124m\"\u001b[39m] \u001b[38;5;241m=\u001b[39m \u001b[38;5;28mself\u001b[39m\u001b[38;5;241m.\u001b[39m_id\n\u001b[1;32m--> 395\u001b[0m \u001b[38;5;28;01mreturn\u001b[39;00m \u001b[38;5;28mself\u001b[39m\u001b[38;5;241m.\u001b[39m_parent\u001b[38;5;241m.\u001b[39mexecute(command, params)\n",
      "File \u001b[1;32m~\\AppData\\Roaming\\Python\\Python311\\site-packages\\selenium\\webdriver\\remote\\webdriver.py:345\u001b[0m, in \u001b[0;36mWebDriver.execute\u001b[1;34m(self, driver_command, params)\u001b[0m\n\u001b[0;32m    343\u001b[0m response \u001b[38;5;241m=\u001b[39m \u001b[38;5;28mself\u001b[39m\u001b[38;5;241m.\u001b[39mcommand_executor\u001b[38;5;241m.\u001b[39mexecute(driver_command, params)\n\u001b[0;32m    344\u001b[0m \u001b[38;5;28;01mif\u001b[39;00m response:\n\u001b[1;32m--> 345\u001b[0m     \u001b[38;5;28mself\u001b[39m\u001b[38;5;241m.\u001b[39merror_handler\u001b[38;5;241m.\u001b[39mcheck_response(response)\n\u001b[0;32m    346\u001b[0m     response[\u001b[38;5;124m\"\u001b[39m\u001b[38;5;124mvalue\u001b[39m\u001b[38;5;124m\"\u001b[39m] \u001b[38;5;241m=\u001b[39m \u001b[38;5;28mself\u001b[39m\u001b[38;5;241m.\u001b[39m_unwrap_value(response\u001b[38;5;241m.\u001b[39mget(\u001b[38;5;124m\"\u001b[39m\u001b[38;5;124mvalue\u001b[39m\u001b[38;5;124m\"\u001b[39m, \u001b[38;5;28;01mNone\u001b[39;00m))\n\u001b[0;32m    347\u001b[0m     \u001b[38;5;28;01mreturn\u001b[39;00m response\n",
      "File \u001b[1;32m~\\AppData\\Roaming\\Python\\Python311\\site-packages\\selenium\\webdriver\\remote\\errorhandler.py:229\u001b[0m, in \u001b[0;36mErrorHandler.check_response\u001b[1;34m(self, response)\u001b[0m\n\u001b[0;32m    227\u001b[0m         alert_text \u001b[38;5;241m=\u001b[39m value[\u001b[38;5;124m\"\u001b[39m\u001b[38;5;124malert\u001b[39m\u001b[38;5;124m\"\u001b[39m]\u001b[38;5;241m.\u001b[39mget(\u001b[38;5;124m\"\u001b[39m\u001b[38;5;124mtext\u001b[39m\u001b[38;5;124m\"\u001b[39m)\n\u001b[0;32m    228\u001b[0m     \u001b[38;5;28;01mraise\u001b[39;00m exception_class(message, screen, stacktrace, alert_text)  \u001b[38;5;66;03m# type: ignore[call-arg]  # mypy is not smart enough here\u001b[39;00m\n\u001b[1;32m--> 229\u001b[0m \u001b[38;5;28;01mraise\u001b[39;00m exception_class(message, screen, stacktrace)\n",
      "\u001b[1;31mElementNotInteractableException\u001b[0m: Message: element not interactable\n  (Session info: chrome=116.0.5845.111)\nStacktrace:\n\tGetHandleVerifier [0x00007FF7D06052A2+57122]\n\t(No symbol) [0x00007FF7D057EA92]\n\t(No symbol) [0x00007FF7D044E25D]\n\t(No symbol) [0x00007FF7D04832B7]\n\t(No symbol) [0x00007FF7D048263B]\n\t(No symbol) [0x00007FF7D04A6FDA]\n\t(No symbol) [0x00007FF7D047EB76]\n\t(No symbol) [0x00007FF7D04A71F0]\n\t(No symbol) [0x00007FF7D04BEB82]\n\t(No symbol) [0x00007FF7D04A6DB3]\n\t(No symbol) [0x00007FF7D047D2B1]\n\t(No symbol) [0x00007FF7D047E494]\n\tGetHandleVerifier [0x00007FF7D08AEF82+2849794]\n\tGetHandleVerifier [0x00007FF7D0901D24+3189156]\n\tGetHandleVerifier [0x00007FF7D08FACAF+3160367]\n\tGetHandleVerifier [0x00007FF7D0696D06+653702]\n\t(No symbol) [0x00007FF7D058A208]\n\t(No symbol) [0x00007FF7D05862C4]\n\t(No symbol) [0x00007FF7D05863F6]\n\t(No symbol) [0x00007FF7D05767A3]\n\tBaseThreadInitThunk [0x00007FFF71B97614+20]\n\tRtlUserThreadStart [0x00007FFF73AC26B1+33]\n"
     ]
    }
   ],
   "source": [
    "from selenium import webdriver as wb\n",
    "from selenium.webdriver.common.by import By\n",
    "from selenium.webdriver.common.keys import Keys\n",
    "import time\n",
    "import pandas as pd\n",
    "\n",
    "#1. 브라우저를 실행하고 => 한솥사이트로 이동\n",
    "def crawling(query):\n",
    "    driver = wb.Chrome()\n",
    "    driver.get(f'https://pcmap.place.naver.com/restaurant/list?query={query}&x=126.92312494639071&y=35.14494900000031&clientX=126.923125&clientY=35.144949&bounds=126.91782490170544%3B35.139790340897406%3B126.92863956779888%3B35.149931884047646&ts=1693193780991&mapUrl=https%3A%2F%2Fmap.naver.com%2Fp%2Fsearch%2F%EB%8F%99%EB%AA%85%EB%8F%99+%EB%A7%9B%EC%A7%91')\n",
    "    box = driver.find_element(By.CSS_SELECTOR, '#_pcmap_list_scroll_container > ul')\n",
    "    box.send_keys(Keys.END)    \n",
    "    time.sleep(100)\n",
    "    \n",
    "crawling('동명동 맛집')"
   ]
  },
  {
   "cell_type": "code",
   "execution_count": null,
   "id": "0969bfe2",
   "metadata": {},
   "outputs": [],
   "source": []
  }
 ],
 "metadata": {
  "kernelspec": {
   "display_name": "Python 3 (ipykernel)",
   "language": "python",
   "name": "python3"
  },
  "language_info": {
   "codemirror_mode": {
    "name": "ipython",
    "version": 3
   },
   "file_extension": ".py",
   "mimetype": "text/x-python",
   "name": "python",
   "nbconvert_exporter": "python",
   "pygments_lexer": "ipython3",
   "version": "3.11.4"
  }
 },
 "nbformat": 4,
 "nbformat_minor": 5
}
