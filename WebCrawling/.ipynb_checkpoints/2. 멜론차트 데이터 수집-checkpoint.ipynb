{
 "cells": [
  {
   "cell_type": "code",
   "execution_count": 1,
   "id": "a26467d7",
   "metadata": {},
   "outputs": [],
   "source": [
    "import requests as req\n",
    "from bs4 import BeautifulSoup as bs"
   ]
  },
  {
   "cell_type": "code",
   "execution_count": 3,
   "id": "d542cb53",
   "metadata": {},
   "outputs": [
    {
     "data": {
      "text/plain": [
       "<Response [406]>"
      ]
     },
     "execution_count": 3,
     "metadata": {},
     "output_type": "execute_result"
    }
   ],
   "source": [
    "#1. req를 통해서 멜론차트 정보를 요청\n",
    "res = req.get('https://www.melon.com/')\n",
    "head = {'User-Agent':'Mozilla/5.0 (Windows NT 10.0; Win64; x64) AppleWebKit/537.36 (KHTML, like Gecko) Chrome/116.0.0.0 Safari/537.36'}"
   ]
  },
  {
   "cell_type": "code",
   "execution_count": null,
   "id": "7df3c37b",
   "metadata": {},
   "outputs": [],
   "source": [
    "#2. bs를 통해서 html 데이터로 변환"
   ]
  },
  {
   "cell_type": "code",
   "execution_count": null,
   "id": "6c105ab9",
   "metadata": {},
   "outputs": [],
   "source": [
    "#3. 노래제목 수집"
   ]
  },
  {
   "cell_type": "code",
   "execution_count": null,
   "id": "4d221c33",
   "metadata": {},
   "outputs": [],
   "source": [
    "#4. 가수이름 수집"
   ]
  },
  {
   "cell_type": "code",
   "execution_count": null,
   "id": "de713291",
   "metadata": {},
   "outputs": [],
   "source": [
    "#5. 수집된 데이터를 텍스트 정보만 추출해서 저장"
   ]
  },
  {
   "cell_type": "code",
   "execution_count": null,
   "id": "8370ad76",
   "metadata": {},
   "outputs": [],
   "source": [
    "#6. 표를 제작"
   ]
  },
  {
   "cell_type": "code",
   "execution_count": null,
   "id": "9584dd6d",
   "metadata": {},
   "outputs": [],
   "source": [
    "#7. 파일로 제작"
   ]
  },
  {
   "cell_type": "code",
   "execution_count": null,
   "id": "1894d834",
   "metadata": {},
   "outputs": [],
   "source": []
  },
  {
   "cell_type": "code",
   "execution_count": null,
   "id": "3a004feb",
   "metadata": {},
   "outputs": [],
   "source": []
  },
  {
   "cell_type": "code",
   "execution_count": null,
   "id": "974a07fd",
   "metadata": {},
   "outputs": [],
   "source": []
  },
  {
   "cell_type": "code",
   "execution_count": null,
   "id": "39c3dcd8",
   "metadata": {},
   "outputs": [],
   "source": []
  },
  {
   "cell_type": "code",
   "execution_count": null,
   "id": "b47e0e3b",
   "metadata": {},
   "outputs": [],
   "source": []
  }
 ],
 "metadata": {
  "kernelspec": {
   "display_name": "Python 3 (ipykernel)",
   "language": "python",
   "name": "python3"
  },
  "language_info": {
   "codemirror_mode": {
    "name": "ipython",
    "version": 3
   },
   "file_extension": ".py",
   "mimetype": "text/x-python",
   "name": "python",
   "nbconvert_exporter": "python",
   "pygments_lexer": "ipython3",
   "version": "3.11.4"
  }
 },
 "nbformat": 4,
 "nbformat_minor": 5
}
