{
 "cells": [
  {
   "cell_type": "code",
   "execution_count": 1,
   "id": "d37e0a19",
   "metadata": {},
   "outputs": [],
   "source": [
    "import requests as req\n",
    "from bs4 import BeautifulSoup as bs"
   ]
  },
  {
   "cell_type": "code",
   "execution_count": 6,
   "id": "29df5909",
   "metadata": {},
   "outputs": [
    {
     "data": {
      "text/plain": [
       "<Response [200]>"
      ]
     },
     "execution_count": 6,
     "metadata": {},
     "output_type": "execute_result"
    }
   ],
   "source": [
    "#1. req를 통해서 멜론차트 정보를 요청\n",
    "head = {'User-Agent':'Mozilla/5.0 (Windows NT 10.0; Win64; x64) AppleWebKit/537.36 (KHTML, like Gecko) Chrome/116.0.0.0 Safari/537.36'}\n",
    "res = req.get('https://www.melon.com/', headers=head)\n",
    "res"
   ]
  },
  {
   "cell_type": "code",
   "execution_count": 12,
   "id": "3c7e6195",
   "metadata": {},
   "outputs": [],
   "source": [
    "#2. bs를 통해서 html 데이터로 변환\n",
    "from bs4 import BeautifulSoup as bs\n",
    "soup = bs(res.text, \"lxml\")"
   ]
  },
  {
   "cell_type": "code",
   "execution_count": 19,
   "id": "c3a0defa",
   "metadata": {},
   "outputs": [
    {
     "name": "stdout",
     "output_type": "stream",
     "text": [
      "Seven (feat. Latto) - Clean Ver.\n",
      "Super Shy\n",
      "ETA\n",
      "헤어지자 말해요\n",
      "퀸카 (Queencard)\n",
      "I AM\n",
      "모래 알갱이\n",
      "사막에서 꽃을 피우듯\n",
      "Steal The Show (From “엘리멘탈”)\n",
      "사랑은 늘 도망가\n"
     ]
    }
   ],
   "source": [
    "#3. 노래제목 수집\n",
    "title = soup.select(\"#conts > div.chart > div > ul > li.on.nth1 > div > ul > li > div.rank_cntt > div.rank_info > p > a\")\n",
    "for i in title:\n",
    "    print(i.text)"
   ]
  },
  {
   "cell_type": "code",
   "execution_count": null,
   "id": "27b52fd8",
   "metadata": {},
   "outputs": [],
   "source": [
    "#4. 가수이름 수집"
   ]
  },
  {
   "cell_type": "code",
   "execution_count": null,
   "id": "ef04d356",
   "metadata": {},
   "outputs": [],
   "source": [
    "#5. 수집된 데이터를 텍스트 정보만 추출해서 저장"
   ]
  },
  {
   "cell_type": "code",
   "execution_count": null,
   "id": "969a01b5",
   "metadata": {},
   "outputs": [],
   "source": [
    "#6. 표를 제작"
   ]
  },
  {
   "cell_type": "code",
   "execution_count": null,
   "id": "15e7e32a",
   "metadata": {},
   "outputs": [],
   "source": [
    "#7. 파일로 제작"
   ]
  },
  {
   "cell_type": "code",
   "execution_count": null,
   "id": "49493ff3",
   "metadata": {},
   "outputs": [],
   "source": []
  },
  {
   "cell_type": "code",
   "execution_count": null,
   "id": "48a24a54",
   "metadata": {},
   "outputs": [],
   "source": []
  },
  {
   "cell_type": "code",
   "execution_count": null,
   "id": "89e7370f",
   "metadata": {},
   "outputs": [],
   "source": []
  },
  {
   "cell_type": "code",
   "execution_count": null,
   "id": "310594f1",
   "metadata": {},
   "outputs": [],
   "source": []
  },
  {
   "cell_type": "code",
   "execution_count": null,
   "id": "1b8ba366",
   "metadata": {},
   "outputs": [],
   "source": []
  }
 ],
 "metadata": {
  "kernelspec": {
   "display_name": "Python 3 (ipykernel)",
   "language": "python",
   "name": "python3"
  },
  "language_info": {
   "codemirror_mode": {
    "name": "ipython",
    "version": 3
   },
   "file_extension": ".py",
   "mimetype": "text/x-python",
   "name": "python",
   "nbconvert_exporter": "python",
   "pygments_lexer": "ipython3",
   "version": "3.11.4"
  }
 },
 "nbformat": 4,
 "nbformat_minor": 5
}
