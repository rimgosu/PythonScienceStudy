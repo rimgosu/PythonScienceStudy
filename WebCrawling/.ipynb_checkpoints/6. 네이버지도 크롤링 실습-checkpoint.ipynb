{
 "cells": [
  {
   "cell_type": "code",
   "execution_count": 22,
   "id": "fc49041f",
   "metadata": {},
   "outputs": [],
   "source": [
    "from selenium import webdriver as wb\n",
    "from selenium.webdriver.common.by import By\n",
    "from selenium.webdriver.common.keys import Keys\n",
    "import time\n",
    "import pandas as pd\n",
    "import pyautogui\n",
    "\n",
    "# 페이지를 아래로 스크롤\n",
    "def scroll_down(driver, pixels):\n",
    "    driver.execute_script(f\"window.scrollBy(0, {pixels});\")\n",
    "    time.sleep(2)  # 스크롤 후 잠시 대기\n",
    "#1. 브라우저를 실행하고 => 한솥사이트로 이동\n",
    "query = '동명동 맛집'\n",
    "\n",
    "driver = wb.Chrome()\n",
    "driver.get(f'https://pcmap.place.naver.com/restaurant/list?query={query}&x=126.92312494639071&y=35.14494900000031&clientX=126.923125&clientY=35.144949&bounds=126.91782490170544%3B35.139790340897406%3B126.92863956779888%3B35.149931884047646&ts=1693193780991&mapUrl=https%3A%2F%2Fmap.naver.com%2Fp%2Fsearch%2F%EB%8F%99%EB%AA%85%EB%8F%99+%EB%A7%9B%EC%A7%91')\n",
    "box = driver.find_element(By.CSS_SELECTOR, '#_pcmap_list_scroll_container > ul')\n",
    "box.click()\n",
    "for _ in range(5):\n",
    "    scroll_down(driver, 100000)  # 300 픽셀씩 스크롤"
   ]
  },
  {
   "cell_type": "code",
   "execution_count": null,
   "id": "0969bfe2",
   "metadata": {},
   "outputs": [],
   "source": []
  },
  {
   "cell_type": "code",
   "execution_count": null,
   "id": "bded984e",
   "metadata": {},
   "outputs": [],
   "source": []
  },
  {
   "cell_type": "code",
   "execution_count": null,
   "id": "d6fc0717",
   "metadata": {},
   "outputs": [],
   "source": []
  },
  {
   "cell_type": "code",
   "execution_count": null,
   "id": "9fb94846",
   "metadata": {},
   "outputs": [],
   "source": []
  },
  {
   "cell_type": "code",
   "execution_count": null,
   "id": "06bef1ec",
   "metadata": {},
   "outputs": [],
   "source": []
  }
 ],
 "metadata": {
  "kernelspec": {
   "display_name": "Python 3 (ipykernel)",
   "language": "python",
   "name": "python3"
  },
  "language_info": {
   "codemirror_mode": {
    "name": "ipython",
    "version": 3
   },
   "file_extension": ".py",
   "mimetype": "text/x-python",
   "name": "python",
   "nbconvert_exporter": "python",
   "pygments_lexer": "ipython3",
   "version": "3.11.4"
  }
 },
 "nbformat": 4,
 "nbformat_minor": 5
}
