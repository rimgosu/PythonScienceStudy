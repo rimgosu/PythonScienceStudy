{
 "cells": [
  {
   "cell_type": "code",
   "execution_count": 48,
   "id": "bc668532",
   "metadata": {},
   "outputs": [
    {
     "name": "stdout",
     "output_type": "stream",
     "text": [
      "끝까지 출력하였습니다.\n",
      "111 111\n"
     ]
    }
   ],
   "source": [
    "from selenium import webdriver as wb\n",
    "from selenium.webdriver.common.by import By\n",
    "from selenium.webdriver.common.keys import Keys\n",
    "import time\n",
    "import pandas as pd\n",
    "\n",
    "#1. 브라우저를 실행하고 => 한솥사이트로 이동\n",
    "driver = wb.Chrome()\n",
    "driver.get('https://www.hsd.co.kr/menu/menu_list')\n",
    "\n",
    "# 더보기를 끝까지 반복\n",
    "try:\n",
    "    while True:\n",
    "        btn = driver.find_element(By.CSS_SELECTOR, '#btn_more > span > a')\n",
    "        btn.click()\n",
    "        time.sleep(3)\n",
    "except:\n",
    "    print('끝까지 출력하였습니다.')\n",
    "\n",
    "title_list, price_list = [], []\n",
    "#2. 상품이름 수집\n",
    "title = driver.find_elements(By.CSS_SELECTOR, 'h4.h.fz_03')\n",
    "for i in title:\n",
    "    title_list.append(i.text)\n",
    "\n",
    "#3. 상품가격 수집\n",
    "price = driver.find_elements(By.CSS_SELECTOR, 'div.item-text > div > strong')\n",
    "for i in price:\n",
    "    price_list.append(i.text)\n",
    "\n",
    "print(len(title_list), len(price_list))\n",
    "driver.quit()\n",
    "\n",
    "dic = {'title': title_list, 'price': price_list}\n",
    "hansot = pd.DataFrame(dic)\n",
    "hansot.to_csv('hansot.csv', encoding='utf-8-sig')"
   ]
  },
  {
   "cell_type": "markdown",
   "id": "5f1d2516",
   "metadata": {},
   "source": [
    "#### 크롤링하는 프로세스\n",
    "1. 데이터 준비 : 화면 준비 (ex. 더보기 다 누르기, 스크롤 최하단까지 이동)\n",
    "2. 데이터 수집 : 준비된 데이터(HTML)에서 필요한 요소를 수집\n",
    "3. 데이터 가공 : 필요한 컨텐츠, 속성만 가공\n",
    "4. 데이터 활용 : 표, 파일로 제작\n"
   ]
  },
  {
   "cell_type": "markdown",
   "id": "093c31ac",
   "metadata": {},
   "source": [
    "# 크롤링 팁\n",
    "- 'Cell run all' 금지\n",
    "- 항상 사람처럼 코딩을 작성 (time.sleep)"
   ]
  },
  {
   "cell_type": "code",
   "execution_count": null,
   "id": "9b6a290b",
   "metadata": {},
   "outputs": [],
   "source": [
    "# time.sleep(5) : 강제로 5초 쉼\n",
    "# driver.implicitly_wait(5) : 5초를 쉬되, 5초보다 빨리 완료되면 바로 다음 코드로 진행\n",
    "driver.implicitly_wait(5)"
   ]
  },
  {
   "cell_type": "code",
   "execution_count": null,
   "id": "8eb4985a",
   "metadata": {},
   "outputs": [],
   "source": []
  },
  {
   "cell_type": "code",
   "execution_count": null,
   "id": "7f3036aa",
   "metadata": {},
   "outputs": [],
   "source": []
  },
  {
   "cell_type": "code",
   "execution_count": null,
   "id": "4908f743",
   "metadata": {},
   "outputs": [],
   "source": []
  },
  {
   "cell_type": "code",
   "execution_count": null,
   "id": "d07b8861",
   "metadata": {},
   "outputs": [],
   "source": []
  }
 ],
 "metadata": {
  "kernelspec": {
   "display_name": "Python 3 (ipykernel)",
   "language": "python",
   "name": "python3"
  },
  "language_info": {
   "codemirror_mode": {
    "name": "ipython",
    "version": 3
   },
   "file_extension": ".py",
   "mimetype": "text/x-python",
   "name": "python",
   "nbconvert_exporter": "python",
   "pygments_lexer": "ipython3",
   "version": "3.11.4"
  }
 },
 "nbformat": 4,
 "nbformat_minor": 5
}
